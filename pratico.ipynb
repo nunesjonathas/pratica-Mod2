{
 "metadata": {
  "language_info": {
   "codemirror_mode": {
    "name": "ipython",
    "version": 3
   },
   "file_extension": ".py",
   "mimetype": "text/x-python",
   "name": "python",
   "nbconvert_exporter": "python",
   "pygments_lexer": "ipython3",
   "version": "3.9.1-final"
  },
  "orig_nbformat": 2,
  "kernelspec": {
   "name": "python3",
   "display_name": "Python 3.9.1 64-bit",
   "metadata": {
    "interpreter": {
     "hash": "92237062529a7dfad5db2170781e2ae2a26d776f3e84984f0f74275a2cb5ec83"
    }
   }
  }
 },
 "nbformat": 4,
 "nbformat_minor": 2,
 "cells": [
  {
   "source": [
    "Import das bibliotecas necessárias para realizar os procedimentos"
   ],
   "cell_type": "markdown",
   "metadata": {}
  },
  {
   "cell_type": "code",
   "execution_count": null,
   "metadata": {},
   "outputs": [],
   "source": [
    "import MySQLdb\n",
    "import sqlalchemy\n",
    "import pandas as pd \n",
    "import os"
   ]
  },
  {
   "source": [
    "Configurando a conexão com o banco de dados"
   ],
   "cell_type": "markdown",
   "metadata": {}
  },
  {
   "cell_type": "code",
   "execution_count": null,
   "metadata": {},
   "outputs": [],
   "source": [
    "#SQL Connection \n",
    "user = 'jonathas' #usuário\n",
    "password = '123456' #senha\n",
    "host = 'localhost' #manter como está\n",
    "database = 'projeto2IGTI' #schema\n",
    "string_conexao = f'mysql://{user}:{password}@{host}/{database}' #url de conexão com o bacanco de dados, não mudar."
   ]
  },
  {
   "source": [
    "Realizando a conexão com o banco de dados "
   ],
   "cell_type": "markdown",
   "metadata": {}
  },
  {
   "cell_type": "code",
   "execution_count": null,
   "metadata": {},
   "outputs": [],
   "source": [
    "engine = sqlalchemy.create_engine(string_conexao)\n",
    "conn = engine.connect()"
   ]
  },
  {
   "source": [
    "\n",
    "\n",
    "Nesse momento vamos ler os arquivos que estão dentro da pasta chamada base."
   ],
   "cell_type": "markdown",
   "metadata": {}
  },
  {
   "cell_type": "code",
   "execution_count": null,
   "metadata": {},
   "outputs": [],
   "source": [
    "#Criar Lista de arquivos\n",
    "lista_df = [] # cria uma lista\n",
    "lista_path = os.listdir('./base') #mostra qual a pasta\n",
    "lista_path[:5] #mostra os 5 primeiro arquivos que estão dentro da pasta base\n",
    "\n",
    "#ler os arquivos a armazena num dataframe\n",
    "for arquivo in lista_path: # Esse for vai percorrer todos os arquivos dentro da pasta base\n",
    "    local_arquivo = os.path.join('./base', arquivo)\n",
    "    df = pd.read_csv(local_arquivo, sep = '|', encoding='latin-1') #o conteúdo dos arquivos está separado por um  |, para ter certerza, abra um dos arquivos e observe qual o separador.\n",
    "    lista_df.append(df) \n",
    "df_pesquisa = pd.concat(lista_df) # Atribui os dados coletados em um dataframe\n",
    "\n",
    "df_pesquisa[:5] #mostra as 5 primeiras linhas do dataframe gerado\n"
   ]
  },
  {
   "source": [
    "\n",
    "\n",
    "Inicialmente vamos trabalhar os dados que não possuem dependecias de outras tabelas.\n",
    "Essa tal independência pode ser observada no schema do enunciado do trabalho."
   ],
   "cell_type": "markdown",
   "metadata": {}
  },
  {
   "cell_type": "code",
   "execution_count": null,
   "metadata": {},
   "outputs": [],
   "source": [
    "#Inserir dados no banco\n",
    "#Para pessoas, podemos observar que a tabela de pessoas possui as seguintes características cod_pessoa, genero e data_nascimento.\n",
    "#O que fazemos aqui é criar um dataframe de pessoas com essses dados, onde selecionamos as colunas correspondentes no df_pesquisa\n",
    "df_pessoas = df_pesquisa[['cod_pessoa', 'genero', 'data_nascimento']].drop_duplicates() #o drop_duplicates remove qualquer conteúdo que esteja duplicado\n",
    "\n",
    "#Podemos observar que o animal só tem a espécie dele para ser armazenada, que no caso está referida como \"animal_estimacao\"\n",
    "#Como é apenas uma coluna que será armazenada, iremos usar uma lista, se fossem mais, utilizaríamos um dataframe.\n",
    "animais = list(df_pesquisa.animal_estimacao.unique()) #Como o nome dos animais se repete ao longo das linhas da pesquisa, utilizamos a fução unique() para selecionar apenas os valores unicos, sem repetições.\n",
    "\n",
    "#A mesma lógica utilizada com os animais pode ser utilizada com hobbies, bebidas e climas.\n",
    "hobbies = list(df_pesquisa.hobbies.unique())\n",
    "bebidas = list(df_pesquisa.bebida_favorita.unique())\n",
    "climas = list(df_pesquisa.clima.unique())\n",
    "\n"
   ]
  },
  {
   "source": [
    "Vamos verificar o dataframe de pessoas e as listas de animais, hobbies, bebidas e climas.\n",
    "Para isso remova a tag comentário '#' do comando para visualizar cada uma das variáveis."
   ],
   "cell_type": "markdown",
   "metadata": {}
  },
  {
   "cell_type": "code",
   "execution_count": null,
   "metadata": {},
   "outputs": [],
   "source": [
    "df_pessoas[:5] #mostra as 5 primeiras linhas\n",
    "#animais\n",
    "#hobbies\n",
    "#bebidas\n",
    "#climas\n"
   ]
  },
  {
   "source": [
    "A partir desse ponto, se supõe que o banco de dados está conectado perfeitamente e que as tabelas já estão criadas.\n",
    "Caso não esteja, verifique o arquivo scriptPesquisa.sql para criar as tabelas e seu banco de acordo com o enunciado da questão.\n",
    "\n",
    "\n",
    "\n",
    "Como df_pessoas é um dataframe, utilizaremos a seguinte lógica para inserir as pessoas no banco de dados:"
   ],
   "cell_type": "markdown",
   "metadata": {}
  },
  {
   "cell_type": "code",
   "execution_count": null,
   "metadata": {
    "tags": [
     "outputPrepend"
    ]
   },
   "outputs": [],
   "source": [
    "#Inserir pessoas\n",
    "for pessoa in df_pessoas.itertuples(): #Um for que vai criar uma variável temporária do tipo pessoa que vai percorrer todo o dataframe df_pessoas\n",
    "    #observando o dataframe df_pessoas podemos notar que, de acordo com as colunas, cada pessoa possui essas três características abaixo\n",
    "    cod_pessoa = pessoa.cod_pessoa\t #pessoa.cod_pessoa vai referenciar inicialmente o cod_pessoa da pessoa[1] no dataframe de pessoas, e assim por diante.\n",
    "    genero = pessoa.genero #o mesmo pensamento acima serve para as pessoa.genero e pessoa.data_nascimento\n",
    "    nascimento = pessoa.data_nascimento\n",
    "    #A partir daqui, guardamos três valores, cod_pessoa, genero e nascimento.\n",
    "    try:\n",
    "        #Nessa primeira etapa, vamos inserir na tabela \"pessoa\" nas colunas cod_pessoa, genero e data_nascimento as variaveis que guardamos anteriormente, cod_pessoa, genero e nascimento\n",
    "        querey = f\"\"\"insert into pessoa (cod_pessoa, genero, data_nascimento )\n",
    "                     values ('{cod_pessoa}',  '{genero}', '{nascimento}')\"\"\"      \n",
    "        conn.execute(querey) #enviar soliciatação par inserir      \n",
    "        print(f\"Registro inserido com sucesso: {cod_pessoa}\") #Se ocorrer tudo bem\n",
    "    except Exception as e:        \n",
    "        print(f\"Não foi possível inserir o regristro {cod_pessoa}. O erro foi encontrado foi: {e}\") #Se houver algum erro\n",
    "print(\"Pessoas Inseridas\")"
   ]
  },
  {
   "source": [
    "Agora vamos inserir os dados que estão nas listas: animais, hobbies, climas e bebidas"
   ],
   "cell_type": "markdown",
   "metadata": {}
  },
  {
   "cell_type": "code",
   "execution_count": null,
   "metadata": {},
   "outputs": [],
   "source": [
    "#Inserir animais\n",
    "#A lógica é bem parecida com a de pessoas, mas como é apenas uma lista, só iremos inserir um valor\n",
    "for a in animais: #Nesse caso, como existe apenas um valor, a variável temporária 'a' que está sendo criada no for irá assumir o valor contido em casa linha da lista animais\n",
    "    try:\n",
    "        #Nessa primeira etapa, vamos inserir na tabela \"animal_estimacao\" na coluna animal, o valor de a.\n",
    "        querey = f\"\"\"insert into animal_estimacao (animal) \n",
    "                     values ('{a}')\"\"\"\n",
    "        conn.execute(querey)#enviar soliciatação par inserir      \n",
    "    except Exception as e:\n",
    "        print(f\"Não foi possível inserir o regristro {a}. O erro foi encontrado foi: {e}\")  \n",
    "print(\"Animais Inseridos\")"
   ]
  },
  {
   "source": [
    "A mesma lógica da lista de animais se aplica para as lista de hobbies, climas e bebidas"
   ],
   "cell_type": "markdown",
   "metadata": {}
  },
  {
   "cell_type": "code",
   "execution_count": null,
   "metadata": {},
   "outputs": [],
   "source": [
    "#Inserir Hobbies\n",
    "for h in hobbies:\n",
    "    try:\n",
    "        #Nessa primeira etapa, vamos inserir na tabela \"hobbie\" na coluna hobbie, o valor de h.\n",
    "        querey = f\"\"\"insert into hobbie (hobbie) \n",
    "                     values ('{h}')\"\"\"\n",
    "        conn.execute(querey)\n",
    "    except Exception as e:\n",
    "        print(f\"Não foi possível inserir o regristro {h}. O erro foi encontrado foi: {e}\")  \n",
    "print(\"Hobbies inseridos\")\n"
   ]
  },
  {
   "cell_type": "code",
   "execution_count": null,
   "metadata": {},
   "outputs": [],
   "source": [
    "#Inserir Bebidas\n",
    "for b in bebidas:\n",
    "    try:\n",
    "        #Nessa primeira etapa, vamos inserir na tabela \"bebida\" na coluna bebida, o valor de b.\n",
    "        querey = f\"\"\"insert into bebida (bebida) \n",
    "                     values ('{b}')\"\"\"\n",
    "        conn.execute(querey)\n",
    "    except Exception as e:\n",
    "        print(f\"Não foi possível inserir o regristro {b}. O erro foi encontrado foi: {e}\")  \n",
    "print(\"Bebidas inseridas\")"
   ]
  },
  {
   "cell_type": "code",
   "execution_count": null,
   "metadata": {},
   "outputs": [],
   "source": [
    "#Inserir Clima\n",
    "for c in climas:\n",
    "    try:\n",
    "        #Nessa primeira etapa, vamos inserir na tabela \"clima\" na coluna clima, o valor de c.\n",
    "        querey = f\"\"\"insert into clima (clima) \n",
    "                     values ('{c}')\"\"\"\n",
    "        conn.execute(querey)\n",
    "    except Exception as e:\n",
    "        print(f\"Não foi possível inserir o regristro {c}. O erro foi encontrado foi: {e}\")  \n",
    "print(\"Climas inseridas\")"
   ]
  },
  {
   "source": [
    "Agora as variáveis estão todas inseridas no banco de dados, precisamos agora inserir no banco os dados relacionados da tabela de pesquisa. Para tal, precisamos ler as nossas tabelas que estão guardadas no banco.\n",
    "\n",
    "Nesse ponto você pode se perguntar: Por qual motivo preciso fazer isso? Elas já não estavam armazenadas aqui no código?\n",
    "\n",
    "Então, lembra que você criou colunas chamadas de cod_de_alguma coisa?\n",
    "\n",
    "Para as tabelas de clima, bebida, hobbie e animal nós não inserimos um valor correspondente ao cod_clima, cod_bebida, cod_hobbie e cod_animal.\n",
    "\n",
    "O que aconteceu então?\n",
    "\n",
    "Essas colunas foram configuradas no mysql como auto increment e a medida que linhas novas são inseridas elas são incrementadas.\n",
    "\n",
    "Já para a a tabela de pessoas, já existia um cod_pessoa na nossa tabela de pesquisas."
   ],
   "cell_type": "markdown",
   "metadata": {}
  },
  {
   "source": [
    "Leitura das tabelas do banco de dados"
   ],
   "cell_type": "markdown",
   "metadata": {}
  },
  {
   "cell_type": "code",
   "execution_count": null,
   "metadata": {},
   "outputs": [],
   "source": [
    "df_animais = pd.read_sql('animal_estimacao', con=conn) #ler a tabela animal_estimacao\n",
    "df_bebidas = pd.read_sql('bebida', con=conn) #ler a tabela bebida\n",
    "df_climas = pd.read_sql('clima', con=conn) #ler a tabela clima\n",
    "df_pessoas = pd.read_sql('pessoa', con=conn) #ler a tabela pessoa\n",
    "df_hobbies = pd.read_sql('hobbie', con=conn) #ler a tabela hobbie"
   ]
  },
  {
   "source": [
    "Observe que para os animais, bebidas, climas e hobbies nós inserimos listas mas recebemos data_frames.\n",
    "\n",
    "Qual o motivo disso?\n",
    "\n",
    "Lembra das colunas cod_clima, cod_bebida, cod_hobbie e cod_animal? Então, elas foram auto incrementadas dentro do mysql e agora foram lidas.\n",
    "\n",
    "Observe cada um dos data_frames lidos do banco para fazer uma analogia ao que foi dito."
   ],
   "cell_type": "markdown",
   "metadata": {}
  },
  {
   "cell_type": "code",
   "execution_count": null,
   "metadata": {},
   "outputs": [],
   "source": [
    "df_bebidas"
   ]
  },
  {
   "cell_type": "code",
   "execution_count": null,
   "metadata": {},
   "outputs": [],
   "source": [
    "df_animais\n"
   ]
  },
  {
   "cell_type": "code",
   "execution_count": null,
   "metadata": {},
   "outputs": [],
   "source": [
    "df_climas"
   ]
  },
  {
   "cell_type": "code",
   "execution_count": null,
   "metadata": {},
   "outputs": [],
   "source": [
    "df_pessoas[:5] #mostra as 5 primeiras"
   ]
  },
  {
   "cell_type": "code",
   "execution_count": null,
   "metadata": {},
   "outputs": [],
   "source": [
    "df_hobbies"
   ]
  },
  {
   "cell_type": "code",
   "execution_count": null,
   "metadata": {},
   "outputs": [],
   "source": [
    "#Para facilitar o entendimento criei uma copia do df_pesquisa\n",
    "#Cópia do Banco\n",
    "df_pesquisa2 = df_pesquisa.copy()"
   ]
  },
  {
   "source": [
    "Agora que já temos as tabelas com seus respectivos códigos, precisamos substituir nas colunas do dataframe df_pesquisa os valores dos códigos das nossas tabelas.\n",
    "\n",
    "Para isso criamos alguns dicionários para fazer essa tal substituição.\n",
    "\n",
    "Para facilitar o entendimento, vamos observar a primeira pesquisa:\n"
   ],
   "cell_type": "markdown",
   "metadata": {}
  },
  {
   "cell_type": "code",
   "execution_count": null,
   "metadata": {},
   "outputs": [],
   "source": [
    "df_pesquisa2[:1]"
   ]
  },
  {
   "source": [
    "O que precisamos fazer é o seguinte substituir o valor de:\n",
    "\n",
    " peixe pelo seu código 1\n",
    "\n",
    " Praticar esporte por seu codigo 1\n",
    "\n",
    " frio pelo seu código 1\n",
    "\n",
    " cerveja pelo seu código 1"
   ],
   "cell_type": "markdown",
   "metadata": {}
  },
  {
   "cell_type": "code",
   "execution_count": null,
   "metadata": {},
   "outputs": [],
   "source": [
    "#Usando Dicionários para substituir os valores pelos codigos\n",
    "#Animais\n",
    "#Com as funções abaixo é possível criar um dicionário de para os nossos dataframes e substitui-los no df_pesquisa\n",
    "\n",
    "#Criando dicionário\n",
    "dict_animais = df_animais.set_index(df_animais.animal)['cod_animal_estimacao'].to_dict()\n",
    "#Substituindo no dataframe df_pesquisa\n",
    "df_pesquisa.animal_estimacao = df_pesquisa2.animal_estimacao.map(dict_animais) \n",
    "#Observando o que fizemos agora:\n",
    "df_pesquisa[:5]#mostra as 5 primeiras linhas\n",
    "\n",
    "#De forma análoga fazemos para os demais dataframes:\n",
    "#Bebidas\n",
    "dict_bebidas = df_bebidas.set_index(df_bebidas.bebida)['cod_bebida'].to_dict()\n",
    "df_pesquisa.bebida_favorita = df_pesquisa2.bebida_favorita.map(dict_bebidas) \n",
    "\n",
    "#Hobbies\n",
    "dict_hobbies = df_hobbies.set_index(df_hobbies.hobbie)['cod_hobbie'].to_dict()\n",
    "df_pesquisa.hobbies = df_pesquisa2.hobbies.map(dict_hobbies) \n",
    "\n",
    "#Clima\n",
    "dict_climas = df_climas.set_index(df_climas.clima)['cod_clima'].to_dict()\n",
    "df_pesquisa.clima = df_pesquisa2.clima.map(dict_climas) "
   ]
  },
  {
   "source": [
    "Nosso dataframe df_pesquisa ficou dessa forma agora:"
   ],
   "cell_type": "markdown",
   "metadata": {}
  },
  {
   "cell_type": "code",
   "execution_count": null,
   "metadata": {},
   "outputs": [],
   "source": [
    "df_pesquisa"
   ]
  },
  {
   "source": [
    " E observando que os dataframe df_pesquisa possui as colunas cod_pessoa, genero e data_nascimento e que o dataframe df_pessoas possui as mesmas colunas, podemos removê-las e referenciá-las com o cod_pessoa quando fizermos pesquisas no mysql."
   ],
   "cell_type": "markdown",
   "metadata": {}
  },
  {
   "cell_type": "code",
   "execution_count": null,
   "metadata": {},
   "outputs": [],
   "source": [
    "\n",
    "#Criei uma variável nova apenas por questões didáticas para comparação entre elas\n",
    "#Selecionando apenas as colunas de interesse do dataframe df_pesquisa\n",
    "df_final = df_pesquisa[['cod_pessoa', 'animal_estimacao', 'clima', 'bebida_favorita', 'hobbies', 'data_coleta']]\n",
    "df_final[:5]#5 primeiras linhas\n"
   ]
  },
  {
   "cell_type": "code",
   "execution_count": null,
   "metadata": {},
   "outputs": [],
   "source": [
    "#Aqui estamos renomeando as colunas do dataframe, novamente com uma nova vairável para questões didáticas de comparação entre elas:\n",
    "df_final2 = df_final.rename(columns={'animal_estimacao' : 'cod_animal_estimacao', 'clima' : 'cod_clima', 'bebida_favorita' : 'cod_bebida', 'hobbies' : 'cod_hobbie', 'data_coleta' : 'data_pesquisa'})\n",
    "df_final2[:5]#5 primeiras linhas"
   ]
  },
  {
   "cell_type": "code",
   "execution_count": null,
   "metadata": {},
   "outputs": [],
   "source": []
  },
  {
   "source": [
    "Nas vídeo aulas, o professor usa um script mysql para inserir os dados de pesquisa, exportando o o dataframe df_final2, no entanto eu preri inserir de maneira análoga ao df_pessoas."
   ],
   "cell_type": "markdown",
   "metadata": {}
  },
  {
   "cell_type": "code",
   "execution_count": null,
   "metadata": {
    "tags": [
     "outputPrepend"
    ]
   },
   "outputs": [],
   "source": [
    "for p in df_final2.itertuples():#Um for que vai criar uma variável temporária p do tipo df_final que vai percorrer todo o dataframe df_final\n",
    "    #observando o dataframe df_final2 podemos notar que, de acordo com as colunas, cada pesquisa possui essas 6 características abaixo\n",
    "    cod_pessoa = p.cod_pessoa\t\n",
    "    cod_clima = p.cod_clima\n",
    "    data_pesquisa = p.data_pesquisa\n",
    "    cod_animal_estimacao = p.cod_animal_estimacao\n",
    "    cod_bebida = p.cod_bebida\n",
    "    cod_hobbie = p.cod_hobbie\n",
    "    #Aqui guardamos as variaveis cod_pessoa, cod_clima, data_pesquisa, cod_animal_estimacao, cod_bebida, cod_hobbie (6 variáveis para 6 colunas)\n",
    "    try:\n",
    "        #Nessa primeira etapa, vamos inserir na tabela \"pesquisa\" nas colunas cod_pessoa, cod_clima, data_pesquisa, cod_animal_estimacao, cod_bebida, cod_hobbie as variaveis que guardamos anteriormente, cod_pessoa, cod_clima, data_pesquisa, cod_animal_estimacao, cod_bebida, cod_hobbie.\n",
    "        querey = f\"\"\"insert into pesquisa (cod_pessoa, cod_clima, data_pesquisa, cod_animal_estimacao, cod_bebida, cod_hobbie) \n",
    "                     values ('{cod_pessoa}',  '{cod_clima}', '{data_pesquisa}', '{cod_animal_estimacao}', '{cod_bebida}', '{cod_hobbie}')\"\"\"      \n",
    "        conn.execute(querey)      \n",
    "        print(f\"Registro inserido com sucesso: {cod_pessoa}\")\n",
    "    except Exception as e:        \n",
    "        print(f\"Não foi possível inserir o regristro {cod_pessoa}. O erro foi encontrado foi: {e}\")\n",
    "print(\"Pesquisas Inseridas\")"
   ]
  },
  {
   "cell_type": "code",
   "execution_count": null,
   "metadata": {},
   "outputs": [],
   "source": []
  }
 ]
}