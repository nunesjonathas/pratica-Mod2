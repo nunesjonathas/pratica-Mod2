{
 "metadata": {
  "language_info": {
   "codemirror_mode": {
    "name": "ipython",
    "version": 3
   },
   "file_extension": ".py",
   "mimetype": "text/x-python",
   "name": "python",
   "nbconvert_exporter": "python",
   "pygments_lexer": "ipython3",
   "version": "3.9.1-final"
  },
  "orig_nbformat": 2,
  "kernelspec": {
   "name": "python3",
   "display_name": "Python 3.9.1 64-bit",
   "metadata": {
    "interpreter": {
     "hash": "92237062529a7dfad5db2170781e2ae2a26d776f3e84984f0f74275a2cb5ec83"
    }
   }
  }
 },
 "nbformat": 4,
 "nbformat_minor": 2,
 "cells": [
  {
   "source": [
    "Import das bibliotecas necessárias para realizar os procedimentos"
   ],
   "cell_type": "markdown",
   "metadata": {}
  },
  {
   "cell_type": "code",
   "execution_count": 49,
   "metadata": {},
   "outputs": [],
   "source": [
    "import MySQLdb\n",
    "import sqlalchemy\n",
    "import pandas as pd \n",
    "import os"
   ]
  },
  {
   "source": [
    "Configurando a conexão com o banco de dados"
   ],
   "cell_type": "markdown",
   "metadata": {}
  },
  {
   "cell_type": "code",
   "execution_count": 50,
   "metadata": {},
   "outputs": [],
   "source": [
    "#SQL Connection \n",
    "user = 'jonathas' #usuário\n",
    "password = '123456' #senha\n",
    "host = 'localhost' #manter como está\n",
    "database = 'projeto2IGTI' #schema\n",
    "string_conexao = f'mysql://{user}:{password}@{host}/{database}' #url de conexão com o bacanco de dados, não mudar."
   ]
  },
  {
   "source": [
    "Realizando a conexão com o banco de dados "
   ],
   "cell_type": "markdown",
   "metadata": {}
  },
  {
   "cell_type": "code",
   "execution_count": 51,
   "metadata": {},
   "outputs": [],
   "source": [
    "engine = sqlalchemy.create_engine(string_conexao)\n",
    "conn = engine.connect()"
   ]
  },
  {
   "source": [
    "\n",
    "\n",
    "Nesse momento vamos ler os arquivos que estão dentro da pasta chamada base."
   ],
   "cell_type": "markdown",
   "metadata": {}
  },
  {
   "cell_type": "code",
   "execution_count": 52,
   "metadata": {},
   "outputs": [
    {
     "output_type": "execute_result",
     "data": {
      "text/plain": [
       "   cod_pessoa data_coleta     genero data_nascimento animal_estimacao  \\\n",
       "0    10141743  2020-01-01  Masculino      1981-04-25            peixe   \n",
       "1    10141860  2020-01-01   Feminino      1966-01-19            peixe   \n",
       "2    10142548  2020-01-01  Masculino      1973-08-02        tartaruga   \n",
       "3    10142591  2020-01-01  Masculino      1997-03-05             gato   \n",
       "4    10142654  2020-01-01   Feminino      1969-08-05        tartaruga   \n",
       "\n",
       "      clima bebida_favorita             hobbies  \n",
       "0      frio         Cerveja    Praticar esporte  \n",
       "1    quente            Café         Assistir TV  \n",
       "2      frio            Café          Ler livros  \n",
       "3  moderado         Cerveja  Aprender algo novo  \n",
       "4  moderado            Café         Assistir TV  "
      ],
      "text/html": "<div>\n<style scoped>\n    .dataframe tbody tr th:only-of-type {\n        vertical-align: middle;\n    }\n\n    .dataframe tbody tr th {\n        vertical-align: top;\n    }\n\n    .dataframe thead th {\n        text-align: right;\n    }\n</style>\n<table border=\"1\" class=\"dataframe\">\n  <thead>\n    <tr style=\"text-align: right;\">\n      <th></th>\n      <th>cod_pessoa</th>\n      <th>data_coleta</th>\n      <th>genero</th>\n      <th>data_nascimento</th>\n      <th>animal_estimacao</th>\n      <th>clima</th>\n      <th>bebida_favorita</th>\n      <th>hobbies</th>\n    </tr>\n  </thead>\n  <tbody>\n    <tr>\n      <th>0</th>\n      <td>10141743</td>\n      <td>2020-01-01</td>\n      <td>Masculino</td>\n      <td>1981-04-25</td>\n      <td>peixe</td>\n      <td>frio</td>\n      <td>Cerveja</td>\n      <td>Praticar esporte</td>\n    </tr>\n    <tr>\n      <th>1</th>\n      <td>10141860</td>\n      <td>2020-01-01</td>\n      <td>Feminino</td>\n      <td>1966-01-19</td>\n      <td>peixe</td>\n      <td>quente</td>\n      <td>Café</td>\n      <td>Assistir TV</td>\n    </tr>\n    <tr>\n      <th>2</th>\n      <td>10142548</td>\n      <td>2020-01-01</td>\n      <td>Masculino</td>\n      <td>1973-08-02</td>\n      <td>tartaruga</td>\n      <td>frio</td>\n      <td>Café</td>\n      <td>Ler livros</td>\n    </tr>\n    <tr>\n      <th>3</th>\n      <td>10142591</td>\n      <td>2020-01-01</td>\n      <td>Masculino</td>\n      <td>1997-03-05</td>\n      <td>gato</td>\n      <td>moderado</td>\n      <td>Cerveja</td>\n      <td>Aprender algo novo</td>\n    </tr>\n    <tr>\n      <th>4</th>\n      <td>10142654</td>\n      <td>2020-01-01</td>\n      <td>Feminino</td>\n      <td>1969-08-05</td>\n      <td>tartaruga</td>\n      <td>moderado</td>\n      <td>Café</td>\n      <td>Assistir TV</td>\n    </tr>\n  </tbody>\n</table>\n</div>"
     },
     "metadata": {},
     "execution_count": 52
    }
   ],
   "source": [
    "#Criar Lista de arquivos\n",
    "lista_df = [] # cria uma lista\n",
    "lista_path = os.listdir('./base') #mostra qual a pasta\n",
    "lista_path[:5] #mostra os 5 primeiro arquivos que estão dentro da pasta base\n",
    "\n",
    "#ler os arquivos a armazena num dataframe\n",
    "for arquivo in lista_path: # Esse for vai percorrer todos os arquivos dentro da pasta base\n",
    "    local_arquivo = os.path.join('./base', arquivo)\n",
    "    df = pd.read_csv(local_arquivo, sep = '|', encoding='latin-1') #o conteúdo dos arquivos está separado por um  |, para ter certerza, abra um dos arquivos e observe qual o separador.\n",
    "    lista_df.append(df) \n",
    "df_pesquisa = pd.concat(lista_df) # Atribui os dados coletados em um dataframe\n",
    "\n",
    "df_pesquisa[:5] #mostra as 5 primeiras linhas do dataframe gerado\n"
   ]
  },
  {
   "source": [
    "\n",
    "\n",
    "Inicialmente vamos trabalhar os dados que não possuem dependecias de outras tabelas.\n",
    "Essa tal independência pode ser observada no schema do enunciado do trabalho."
   ],
   "cell_type": "markdown",
   "metadata": {}
  },
  {
   "cell_type": "code",
   "execution_count": 53,
   "metadata": {},
   "outputs": [],
   "source": [
    "#Inserir dados no banco\n",
    "#Para pessoas, podemos observar que a tabela de pessoas possui as seguintes características cod_pessoa, genero e data_nascimento.\n",
    "#O que fazemos aqui é criar um dataframe de pessoas com essses dados, onde selecionamos as colunas correspondentes no df_pesquisa\n",
    "df_pessoas = df_pesquisa[['cod_pessoa', 'genero', 'data_nascimento']].drop_duplicates() #o drop_duplicates remove qualquer conteúdo que esteja duplicado\n",
    "\n",
    "#Podemos observar que o animal só tem a espécie dele para ser armazenada, que no caso está referida como \"animal_estimacao\"\n",
    "#Como é apenas uma coluna que será armazenada, iremos usar uma lista, se fossem mais, utilizaríamos um dataframe.\n",
    "animais = list(df_pesquisa.animal_estimacao.unique()) #Como o nome dos animais se repete ao longo das linhas da pesquisa, utilizamos a fução unique() para selecionar apenas os valores unicos, sem repetições.\n",
    "\n",
    "#A mesma lógica utilizada com os animais pode ser utilizada com hobbies, bebidas e climas.\n",
    "hobbies = list(df_pesquisa.hobbies.unique())\n",
    "bebidas = list(df_pesquisa.bebida_favorita.unique())\n",
    "climas = list(df_pesquisa.clima.unique())\n",
    "\n"
   ]
  },
  {
   "source": [
    "Vamos verificar o dataframe de pessoas e as listas de animais, hobbies, bebidas e climas.\n",
    "Para isso remova a tag comentário '#' do comando para visualizar cada uma das variáveis."
   ],
   "cell_type": "markdown",
   "metadata": {}
  },
  {
   "cell_type": "code",
   "execution_count": 54,
   "metadata": {},
   "outputs": [
    {
     "output_type": "execute_result",
     "data": {
      "text/plain": [
       "   cod_pessoa     genero data_nascimento\n",
       "0    10141743  Masculino      1981-04-25\n",
       "1    10141860   Feminino      1966-01-19\n",
       "2    10142548  Masculino      1973-08-02\n",
       "3    10142591  Masculino      1997-03-05\n",
       "4    10142654   Feminino      1969-08-05"
      ],
      "text/html": "<div>\n<style scoped>\n    .dataframe tbody tr th:only-of-type {\n        vertical-align: middle;\n    }\n\n    .dataframe tbody tr th {\n        vertical-align: top;\n    }\n\n    .dataframe thead th {\n        text-align: right;\n    }\n</style>\n<table border=\"1\" class=\"dataframe\">\n  <thead>\n    <tr style=\"text-align: right;\">\n      <th></th>\n      <th>cod_pessoa</th>\n      <th>genero</th>\n      <th>data_nascimento</th>\n    </tr>\n  </thead>\n  <tbody>\n    <tr>\n      <th>0</th>\n      <td>10141743</td>\n      <td>Masculino</td>\n      <td>1981-04-25</td>\n    </tr>\n    <tr>\n      <th>1</th>\n      <td>10141860</td>\n      <td>Feminino</td>\n      <td>1966-01-19</td>\n    </tr>\n    <tr>\n      <th>2</th>\n      <td>10142548</td>\n      <td>Masculino</td>\n      <td>1973-08-02</td>\n    </tr>\n    <tr>\n      <th>3</th>\n      <td>10142591</td>\n      <td>Masculino</td>\n      <td>1997-03-05</td>\n    </tr>\n    <tr>\n      <th>4</th>\n      <td>10142654</td>\n      <td>Feminino</td>\n      <td>1969-08-05</td>\n    </tr>\n  </tbody>\n</table>\n</div>"
     },
     "metadata": {},
     "execution_count": 54
    }
   ],
   "source": [
    "df_pessoas[:5] #mostra as 5 primeiras linhas\n",
    "#animais\n",
    "#hobbies\n",
    "#bebidas\n",
    "#climas\n"
   ]
  },
  {
   "source": [
    "A partir desse ponto, se supõe que o banco de dados está conectado perfeitamente e que as tabelas já estão criadas.\n",
    "Caso não esteja, verifique o arquivo scriptPesquisa.sql para criar as tabelas e seu banco de acordo com o enunciado da questão.\n",
    "\n",
    "\n",
    "\n",
    "Como df_pessoas é um dataframe, utilizaremos a seguinte lógica para inserir as pessoas no banco de dados:"
   ],
   "cell_type": "markdown",
   "metadata": {}
  },
  {
   "cell_type": "code",
   "execution_count": 55,
   "metadata": {
    "tags": [
     "outputPrepend"
    ]
   },
   "outputs": [
    {
     "output_type": "stream",
     "name": "stdout",
     "text": [
      "pessoa (cod_pessoa, genero, data_nascimento )\n",
      "                     values ('10142393',  'Masculino', '1970-09-18')]\n",
      "(Background on this error at: http://sqlalche.me/e/14/gkpj)\n",
      "Não foi possível inserir o regristro 10142971. O erro foi encontrado foi: (MySQLdb._exceptions.IntegrityError) (1062, \"Duplicate entry '10142971' for key 'pessoa.PRIMARY'\")\n",
      "[SQL: insert into pessoa (cod_pessoa, genero, data_nascimento )\n",
      "                     values ('10142971',  'Masculino', '1951-12-26')]\n",
      "(Background on this error at: http://sqlalche.me/e/14/gkpj)\n",
      "Não foi possível inserir o regristro 10143012. O erro foi encontrado foi: (MySQLdb._exceptions.IntegrityError) (1062, \"Duplicate entry '10143012' for key 'pessoa.PRIMARY'\")\n",
      "[SQL: insert into pessoa (cod_pessoa, genero, data_nascimento )\n",
      "                     values ('10143012',  'Masculino', '1968-05-17')]\n",
      "(Background on this error at: http://sqlalche.me/e/14/gkpj)\n",
      "Não foi possível inserir o regristro 10143624. O erro foi encontrado foi: (MySQLdb._exceptions.IntegrityError) (1062, \"Duplicate entry '10143624' for key 'pessoa.PRIMARY'\")\n",
      "[SQL: insert into pessoa (cod_pessoa, genero, data_nascimento )\n",
      "                     values ('10143624',  'Masculino', '1959-04-01')]\n",
      "(Background on this error at: http://sqlalche.me/e/14/gkpj)\n",
      "Não foi possível inserir o regristro 10141760. O erro foi encontrado foi: (MySQLdb._exceptions.IntegrityError) (1062, \"Duplicate entry '10141760' for key 'pessoa.PRIMARY'\")\n",
      "[SQL: insert into pessoa (cod_pessoa, genero, data_nascimento )\n",
      "                     values ('10141760',  'Masculino', '1978-08-03')]\n",
      "(Background on this error at: http://sqlalche.me/e/14/gkpj)\n",
      "Não foi possível inserir o regristro 10141806. O erro foi encontrado foi: (MySQLdb._exceptions.IntegrityError) (1062, \"Duplicate entry '10141806' for key 'pessoa.PRIMARY'\")\n",
      "[SQL: insert into pessoa (cod_pessoa, genero, data_nascimento )\n",
      "                     values ('10141806',  'Feminino', '1993-04-22')]\n",
      "(Background on this error at: http://sqlalche.me/e/14/gkpj)\n",
      "Não foi possível inserir o regristro 10141888. O erro foi encontrado foi: (MySQLdb._exceptions.IntegrityError) (1062, \"Duplicate entry '10141888' for key 'pessoa.PRIMARY'\")\n",
      "[SQL: insert into pessoa (cod_pessoa, genero, data_nascimento )\n",
      "                     values ('10141888',  'Feminino', '1983-12-27')]\n",
      "(Background on this error at: http://sqlalche.me/e/14/gkpj)\n",
      "Não foi possível inserir o regristro 10142181. O erro foi encontrado foi: (MySQLdb._exceptions.IntegrityError) (1062, \"Duplicate entry '10142181' for key 'pessoa.PRIMARY'\")\n",
      "[SQL: insert into pessoa (cod_pessoa, genero, data_nascimento )\n",
      "                     values ('10142181',  'Masculino', '1998-07-29')]\n",
      "(Background on this error at: http://sqlalche.me/e/14/gkpj)\n",
      "Não foi possível inserir o regristro 10142352. O erro foi encontrado foi: (MySQLdb._exceptions.IntegrityError) (1062, \"Duplicate entry '10142352' for key 'pessoa.PRIMARY'\")\n",
      "[SQL: insert into pessoa (cod_pessoa, genero, data_nascimento )\n",
      "                     values ('10142352',  'Masculino', '1953-06-15')]\n",
      "(Background on this error at: http://sqlalche.me/e/14/gkpj)\n",
      "Não foi possível inserir o regristro 10142863. O erro foi encontrado foi: (MySQLdb._exceptions.IntegrityError) (1062, \"Duplicate entry '10142863' for key 'pessoa.PRIMARY'\")\n",
      "[SQL: insert into pessoa (cod_pessoa, genero, data_nascimento )\n",
      "                     values ('10142863',  'Masculino', '1965-08-11')]\n",
      "(Background on this error at: http://sqlalche.me/e/14/gkpj)\n",
      "Não foi possível inserir o regristro 10142981. O erro foi encontrado foi: (MySQLdb._exceptions.IntegrityError) (1062, \"Duplicate entry '10142981' for key 'pessoa.PRIMARY'\")\n",
      "[SQL: insert into pessoa (cod_pessoa, genero, data_nascimento )\n",
      "                     values ('10142981',  'Masculino', '1953-09-04')]\n",
      "(Background on this error at: http://sqlalche.me/e/14/gkpj)\n",
      "Não foi possível inserir o regristro 10143114. O erro foi encontrado foi: (MySQLdb._exceptions.IntegrityError) (1062, \"Duplicate entry '10143114' for key 'pessoa.PRIMARY'\")\n",
      "[SQL: insert into pessoa (cod_pessoa, genero, data_nascimento )\n",
      "                     values ('10143114',  'Masculino', '1967-12-24')]\n",
      "(Background on this error at: http://sqlalche.me/e/14/gkpj)\n",
      "Não foi possível inserir o regristro 10143535. O erro foi encontrado foi: (MySQLdb._exceptions.IntegrityError) (1062, \"Duplicate entry '10143535' for key 'pessoa.PRIMARY'\")\n",
      "[SQL: insert into pessoa (cod_pessoa, genero, data_nascimento )\n",
      "                     values ('10143535',  'Masculino', '1957-01-24')]\n",
      "(Background on this error at: http://sqlalche.me/e/14/gkpj)\n",
      "Não foi possível inserir o regristro 10142185. O erro foi encontrado foi: (MySQLdb._exceptions.IntegrityError) (1062, \"Duplicate entry '10142185' for key 'pessoa.PRIMARY'\")\n",
      "[SQL: insert into pessoa (cod_pessoa, genero, data_nascimento )\n",
      "                     values ('10142185',  'Masculino', '1991-01-09')]\n",
      "(Background on this error at: http://sqlalche.me/e/14/gkpj)\n",
      "Não foi possível inserir o regristro 10142227. O erro foi encontrado foi: (MySQLdb._exceptions.IntegrityError) (1062, \"Duplicate entry '10142227' for key 'pessoa.PRIMARY'\")\n",
      "[SQL: insert into pessoa (cod_pessoa, genero, data_nascimento )\n",
      "                     values ('10142227',  'Masculino', '1989-03-29')]\n",
      "(Background on this error at: http://sqlalche.me/e/14/gkpj)\n",
      "Não foi possível inserir o regristro 10143558. O erro foi encontrado foi: (MySQLdb._exceptions.IntegrityError) (1062, \"Duplicate entry '10143558' for key 'pessoa.PRIMARY'\")\n",
      "[SQL: insert into pessoa (cod_pessoa, genero, data_nascimento )\n",
      "                     values ('10143558',  'Masculino', '1952-05-11')]\n",
      "(Background on this error at: http://sqlalche.me/e/14/gkpj)\n",
      "Não foi possível inserir o regristro 10142601. O erro foi encontrado foi: (MySQLdb._exceptions.IntegrityError) (1062, \"Duplicate entry '10142601' for key 'pessoa.PRIMARY'\")\n",
      "[SQL: insert into pessoa (cod_pessoa, genero, data_nascimento )\n",
      "                     values ('10142601',  'Masculino', '1976-09-19')]\n",
      "(Background on this error at: http://sqlalche.me/e/14/gkpj)\n",
      "Não foi possível inserir o regristro 10142772. O erro foi encontrado foi: (MySQLdb._exceptions.IntegrityError) (1062, \"Duplicate entry '10142772' for key 'pessoa.PRIMARY'\")\n",
      "[SQL: insert into pessoa (cod_pessoa, genero, data_nascimento )\n",
      "                     values ('10142772',  'Masculino', '1997-01-18')]\n",
      "(Background on this error at: http://sqlalche.me/e/14/gkpj)\n",
      "Não foi possível inserir o regristro 10143078. O erro foi encontrado foi: (MySQLdb._exceptions.IntegrityError) (1062, \"Duplicate entry '10143078' for key 'pessoa.PRIMARY'\")\n",
      "[SQL: insert into pessoa (cod_pessoa, genero, data_nascimento )\n",
      "                     values ('10143078',  'Masculino', '1990-07-28')]\n",
      "(Background on this error at: http://sqlalche.me/e/14/gkpj)\n",
      "Não foi possível inserir o regristro 10143173. O erro foi encontrado foi: (MySQLdb._exceptions.IntegrityError) (1062, \"Duplicate entry '10143173' for key 'pessoa.PRIMARY'\")\n",
      "[SQL: insert into pessoa (cod_pessoa, genero, data_nascimento )\n",
      "                     values ('10143173',  'Masculino', '1953-08-05')]\n",
      "(Background on this error at: http://sqlalche.me/e/14/gkpj)\n",
      "Não foi possível inserir o regristro 10143530. O erro foi encontrado foi: (MySQLdb._exceptions.IntegrityError) (1062, \"Duplicate entry '10143530' for key 'pessoa.PRIMARY'\")\n",
      "[SQL: insert into pessoa (cod_pessoa, genero, data_nascimento )\n",
      "                     values ('10143530',  'Feminino', '1983-05-03')]\n",
      "(Background on this error at: http://sqlalche.me/e/14/gkpj)\n",
      "Não foi possível inserir o regristro 10141765. O erro foi encontrado foi: (MySQLdb._exceptions.IntegrityError) (1062, \"Duplicate entry '10141765' for key 'pessoa.PRIMARY'\")\n",
      "[SQL: insert into pessoa (cod_pessoa, genero, data_nascimento )\n",
      "                     values ('10141765',  'Masculino', '1971-11-05')]\n",
      "(Background on this error at: http://sqlalche.me/e/14/gkpj)\n",
      "Não foi possível inserir o regristro 10141820. O erro foi encontrado foi: (MySQLdb._exceptions.IntegrityError) (1062, \"Duplicate entry '10141820' for key 'pessoa.PRIMARY'\")\n",
      "[SQL: insert into pessoa (cod_pessoa, genero, data_nascimento )\n",
      "                     values ('10141820',  'Feminino', '1988-05-30')]\n",
      "(Background on this error at: http://sqlalche.me/e/14/gkpj)\n",
      "Não foi possível inserir o regristro 10142126. O erro foi encontrado foi: (MySQLdb._exceptions.IntegrityError) (1062, \"Duplicate entry '10142126' for key 'pessoa.PRIMARY'\")\n",
      "[SQL: insert into pessoa (cod_pessoa, genero, data_nascimento )\n",
      "                     values ('10142126',  'Masculino', '1965-11-11')]\n",
      "(Background on this error at: http://sqlalche.me/e/14/gkpj)\n",
      "Não foi possível inserir o regristro 10142267. O erro foi encontrado foi: (MySQLdb._exceptions.IntegrityError) (1062, \"Duplicate entry '10142267' for key 'pessoa.PRIMARY'\")\n",
      "[SQL: insert into pessoa (cod_pessoa, genero, data_nascimento )\n",
      "                     values ('10142267',  'Masculino', '1962-03-29')]\n",
      "(Background on this error at: http://sqlalche.me/e/14/gkpj)\n",
      "Não foi possível inserir o regristro 10142664. O erro foi encontrado foi: (MySQLdb._exceptions.IntegrityError) (1062, \"Duplicate entry '10142664' for key 'pessoa.PRIMARY'\")\n",
      "[SQL: insert into pessoa (cod_pessoa, genero, data_nascimento )\n",
      "                     values ('10142664',  'Masculino', '1971-12-31')]\n",
      "(Background on this error at: http://sqlalche.me/e/14/gkpj)\n",
      "Não foi possível inserir o regristro 10142727. O erro foi encontrado foi: (MySQLdb._exceptions.IntegrityError) (1062, \"Duplicate entry '10142727' for key 'pessoa.PRIMARY'\")\n",
      "[SQL: insert into pessoa (cod_pessoa, genero, data_nascimento )\n",
      "                     values ('10142727',  'Masculino', '1990-12-14')]\n",
      "(Background on this error at: http://sqlalche.me/e/14/gkpj)\n",
      "Não foi possível inserir o regristro 10143345. O erro foi encontrado foi: (MySQLdb._exceptions.IntegrityError) (1062, \"Duplicate entry '10143345' for key 'pessoa.PRIMARY'\")\n",
      "[SQL: insert into pessoa (cod_pessoa, genero, data_nascimento )\n",
      "                     values ('10143345',  'Feminino', '1994-10-17')]\n",
      "(Background on this error at: http://sqlalche.me/e/14/gkpj)\n",
      "Não foi possível inserir o regristro 10143460. O erro foi encontrado foi: (MySQLdb._exceptions.IntegrityError) (1062, \"Duplicate entry '10143460' for key 'pessoa.PRIMARY'\")\n",
      "[SQL: insert into pessoa (cod_pessoa, genero, data_nascimento )\n",
      "                     values ('10143460',  'Masculino', '1993-02-22')]\n",
      "(Background on this error at: http://sqlalche.me/e/14/gkpj)\n",
      "Não foi possível inserir o regristro 10141763. O erro foi encontrado foi: (MySQLdb._exceptions.IntegrityError) (1062, \"Duplicate entry '10141763' for key 'pessoa.PRIMARY'\")\n",
      "[SQL: insert into pessoa (cod_pessoa, genero, data_nascimento )\n",
      "                     values ('10141763',  'Masculino', '1961-10-29')]\n",
      "(Background on this error at: http://sqlalche.me/e/14/gkpj)\n",
      "Não foi possível inserir o regristro 10142046. O erro foi encontrado foi: (MySQLdb._exceptions.IntegrityError) (1062, \"Duplicate entry '10142046' for key 'pessoa.PRIMARY'\")\n",
      "[SQL: insert into pessoa (cod_pessoa, genero, data_nascimento )\n",
      "                     values ('10142046',  'Masculino', '1999-03-03')]\n",
      "(Background on this error at: http://sqlalche.me/e/14/gkpj)\n",
      "Não foi possível inserir o regristro 10142408. O erro foi encontrado foi: (MySQLdb._exceptions.IntegrityError) (1062, \"Duplicate entry '10142408' for key 'pessoa.PRIMARY'\")\n",
      "[SQL: insert into pessoa (cod_pessoa, genero, data_nascimento )\n",
      "                     values ('10142408',  'Masculino', '1964-12-31')]\n",
      "(Background on this error at: http://sqlalche.me/e/14/gkpj)\n",
      "Não foi possível inserir o regristro 10142576. O erro foi encontrado foi: (MySQLdb._exceptions.IntegrityError) (1062, \"Duplicate entry '10142576' for key 'pessoa.PRIMARY'\")\n",
      "[SQL: insert into pessoa (cod_pessoa, genero, data_nascimento )\n",
      "                     values ('10142576',  'Masculino', '1982-09-24')]\n",
      "(Background on this error at: http://sqlalche.me/e/14/gkpj)\n",
      "Não foi possível inserir o regristro 10142819. O erro foi encontrado foi: (MySQLdb._exceptions.IntegrityError) (1062, \"Duplicate entry '10142819' for key 'pessoa.PRIMARY'\")\n",
      "[SQL: insert into pessoa (cod_pessoa, genero, data_nascimento )\n",
      "                     values ('10142819',  'Masculino', '1951-02-19')]\n",
      "(Background on this error at: http://sqlalche.me/e/14/gkpj)\n",
      "Não foi possível inserir o regristro 10143087. O erro foi encontrado foi: (MySQLdb._exceptions.IntegrityError) (1062, \"Duplicate entry '10143087' for key 'pessoa.PRIMARY'\")\n",
      "[SQL: insert into pessoa (cod_pessoa, genero, data_nascimento )\n",
      "                     values ('10143087',  'Masculino', '1962-09-05')]\n",
      "(Background on this error at: http://sqlalche.me/e/14/gkpj)\n",
      "Não foi possível inserir o regristro 10143464. O erro foi encontrado foi: (MySQLdb._exceptions.IntegrityError) (1062, \"Duplicate entry '10143464' for key 'pessoa.PRIMARY'\")\n",
      "[SQL: insert into pessoa (cod_pessoa, genero, data_nascimento )\n",
      "                     values ('10143464',  'Feminino', '1960-03-03')]\n",
      "(Background on this error at: http://sqlalche.me/e/14/gkpj)\n",
      "Não foi possível inserir o regristro 10141538. O erro foi encontrado foi: (MySQLdb._exceptions.IntegrityError) (1062, \"Duplicate entry '10141538' for key 'pessoa.PRIMARY'\")\n",
      "[SQL: insert into pessoa (cod_pessoa, genero, data_nascimento )\n",
      "                     values ('10141538',  'Feminino', '1950-07-19')]\n",
      "(Background on this error at: http://sqlalche.me/e/14/gkpj)\n",
      "Não foi possível inserir o regristro 10141656. O erro foi encontrado foi: (MySQLdb._exceptions.IntegrityError) (1062, \"Duplicate entry '10141656' for key 'pessoa.PRIMARY'\")\n",
      "[SQL: insert into pessoa (cod_pessoa, genero, data_nascimento )\n",
      "                     values ('10141656',  'Feminino', '1981-12-27')]\n",
      "(Background on this error at: http://sqlalche.me/e/14/gkpj)\n",
      "Não foi possível inserir o regristro 10141778. O erro foi encontrado foi: (MySQLdb._exceptions.IntegrityError) (1062, \"Duplicate entry '10141778' for key 'pessoa.PRIMARY'\")\n",
      "[SQL: insert into pessoa (cod_pessoa, genero, data_nascimento )\n",
      "                     values ('10141778',  'Masculino', '1967-11-14')]\n",
      "(Background on this error at: http://sqlalche.me/e/14/gkpj)\n",
      "Não foi possível inserir o regristro 10142003. O erro foi encontrado foi: (MySQLdb._exceptions.IntegrityError) (1062, \"Duplicate entry '10142003' for key 'pessoa.PRIMARY'\")\n",
      "[SQL: insert into pessoa (cod_pessoa, genero, data_nascimento )\n",
      "                     values ('10142003',  'Feminino', '1987-05-04')]\n",
      "(Background on this error at: http://sqlalche.me/e/14/gkpj)\n",
      "Não foi possível inserir o regristro 10142040. O erro foi encontrado foi: (MySQLdb._exceptions.IntegrityError) (1062, \"Duplicate entry '10142040' for key 'pessoa.PRIMARY'\")\n",
      "[SQL: insert into pessoa (cod_pessoa, genero, data_nascimento )\n",
      "                     values ('10142040',  'Feminino', '1978-09-11')]\n",
      "(Background on this error at: http://sqlalche.me/e/14/gkpj)\n",
      "Não foi possível inserir o regristro 10142621. O erro foi encontrado foi: (MySQLdb._exceptions.IntegrityError) (1062, \"Duplicate entry '10142621' for key 'pessoa.PRIMARY'\")\n",
      "[SQL: insert into pessoa (cod_pessoa, genero, data_nascimento )\n",
      "                     values ('10142621',  'Feminino', '1981-11-18')]\n",
      "(Background on this error at: http://sqlalche.me/e/14/gkpj)\n",
      "Não foi possível inserir o regristro 10142663. O erro foi encontrado foi: (MySQLdb._exceptions.IntegrityError) (1062, \"Duplicate entry '10142663' for key 'pessoa.PRIMARY'\")\n",
      "[SQL: insert into pessoa (cod_pessoa, genero, data_nascimento )\n",
      "                     values ('10142663',  'Masculino', '1960-09-29')]\n",
      "(Background on this error at: http://sqlalche.me/e/14/gkpj)\n",
      "Não foi possível inserir o regristro 10141560. O erro foi encontrado foi: (MySQLdb._exceptions.IntegrityError) (1062, \"Duplicate entry '10141560' for key 'pessoa.PRIMARY'\")\n",
      "[SQL: insert into pessoa (cod_pessoa, genero, data_nascimento )\n",
      "                     values ('10141560',  'Feminino', '1969-06-05')]\n",
      "(Background on this error at: http://sqlalche.me/e/14/gkpj)\n",
      "Não foi possível inserir o regristro 10142072. O erro foi encontrado foi: (MySQLdb._exceptions.IntegrityError) (1062, \"Duplicate entry '10142072' for key 'pessoa.PRIMARY'\")\n",
      "[SQL: insert into pessoa (cod_pessoa, genero, data_nascimento )\n",
      "                     values ('10142072',  'Masculino', '1960-02-29')]\n",
      "(Background on this error at: http://sqlalche.me/e/14/gkpj)\n",
      "Não foi possível inserir o regristro 10142286. O erro foi encontrado foi: (MySQLdb._exceptions.IntegrityError) (1062, \"Duplicate entry '10142286' for key 'pessoa.PRIMARY'\")\n",
      "[SQL: insert into pessoa (cod_pessoa, genero, data_nascimento )\n",
      "                     values ('10142286',  'Masculino', '1966-08-31')]\n",
      "(Background on this error at: http://sqlalche.me/e/14/gkpj)\n",
      "Não foi possível inserir o regristro 10142466. O erro foi encontrado foi: (MySQLdb._exceptions.IntegrityError) (1062, \"Duplicate entry '10142466' for key 'pessoa.PRIMARY'\")\n",
      "[SQL: insert into pessoa (cod_pessoa, genero, data_nascimento )\n",
      "                     values ('10142466',  'Masculino', '1969-01-19')]\n",
      "(Background on this error at: http://sqlalche.me/e/14/gkpj)\n",
      "Não foi possível inserir o regristro 10143067. O erro foi encontrado foi: (MySQLdb._exceptions.IntegrityError) (1062, \"Duplicate entry '10143067' for key 'pessoa.PRIMARY'\")\n",
      "[SQL: insert into pessoa (cod_pessoa, genero, data_nascimento )\n",
      "                     values ('10143067',  'Masculino', '1961-12-25')]\n",
      "(Background on this error at: http://sqlalche.me/e/14/gkpj)\n",
      "Não foi possível inserir o regristro 10143595. O erro foi encontrado foi: (MySQLdb._exceptions.IntegrityError) (1062, \"Duplicate entry '10143595' for key 'pessoa.PRIMARY'\")\n",
      "[SQL: insert into pessoa (cod_pessoa, genero, data_nascimento )\n",
      "                     values ('10143595',  'Masculino', '1958-01-22')]\n",
      "(Background on this error at: http://sqlalche.me/e/14/gkpj)\n",
      "Não foi possível inserir o regristro 10142416. O erro foi encontrado foi: (MySQLdb._exceptions.IntegrityError) (1062, \"Duplicate entry '10142416' for key 'pessoa.PRIMARY'\")\n",
      "[SQL: insert into pessoa (cod_pessoa, genero, data_nascimento )\n",
      "                     values ('10142416',  'Masculino', '1996-05-07')]\n",
      "(Background on this error at: http://sqlalche.me/e/14/gkpj)\n",
      "Não foi possível inserir o regristro 10142475. O erro foi encontrado foi: (MySQLdb._exceptions.IntegrityError) (1062, \"Duplicate entry '10142475' for key 'pessoa.PRIMARY'\")\n",
      "[SQL: insert into pessoa (cod_pessoa, genero, data_nascimento )\n",
      "                     values ('10142475',  'Masculino', '1955-05-30')]\n",
      "(Background on this error at: http://sqlalche.me/e/14/gkpj)\n",
      "Não foi possível inserir o regristro 10142522. O erro foi encontrado foi: (MySQLdb._exceptions.IntegrityError) (1062, \"Duplicate entry '10142522' for key 'pessoa.PRIMARY'\")\n",
      "[SQL: insert into pessoa (cod_pessoa, genero, data_nascimento )\n",
      "                     values ('10142522',  'Masculino', '1954-12-22')]\n",
      "(Background on this error at: http://sqlalche.me/e/14/gkpj)\n",
      "Não foi possível inserir o regristro 10142881. O erro foi encontrado foi: (MySQLdb._exceptions.IntegrityError) (1062, \"Duplicate entry '10142881' for key 'pessoa.PRIMARY'\")\n",
      "[SQL: insert into pessoa (cod_pessoa, genero, data_nascimento )\n",
      "                     values ('10142881',  'Masculino', '1952-07-30')]\n",
      "(Background on this error at: http://sqlalche.me/e/14/gkpj)\n",
      "Não foi possível inserir o regristro 10143184. O erro foi encontrado foi: (MySQLdb._exceptions.IntegrityError) (1062, \"Duplicate entry '10143184' for key 'pessoa.PRIMARY'\")\n",
      "[SQL: insert into pessoa (cod_pessoa, genero, data_nascimento )\n",
      "                     values ('10143184',  'Masculino', '1984-06-05')]\n",
      "(Background on this error at: http://sqlalche.me/e/14/gkpj)\n",
      "Não foi possível inserir o regristro 10143307. O erro foi encontrado foi: (MySQLdb._exceptions.IntegrityError) (1062, \"Duplicate entry '10143307' for key 'pessoa.PRIMARY'\")\n",
      "[SQL: insert into pessoa (cod_pessoa, genero, data_nascimento )\n",
      "                     values ('10143307',  'Masculino', '1971-08-29')]\n",
      "(Background on this error at: http://sqlalche.me/e/14/gkpj)\n",
      "Pessoas Inseridas\n"
     ]
    }
   ],
   "source": [
    "#Inserir pessoas\n",
    "for pessoa in df_pessoas.itertuples(): #Um for que vai criar uma variável temporária do tipo pessoa que vai percorrer todo o dataframe df_pessoas\n",
    "    #observando o dataframe df_pessoas podemos notar que, de acordo com as colunas, cada pessoa possui essas três características abaixo\n",
    "    cod_pessoa = pessoa.cod_pessoa\t #pessoa.cod_pessoa vai referenciar inicialmente o cod_pessoa da pessoa[1] no dataframe de pessoas, e assim por diante.\n",
    "    genero = pessoa.genero #o mesmo pensamento acima serve para as pessoa.genero e pessoa.data_nascimento\n",
    "    nascimento = pessoa.data_nascimento\n",
    "    #A partir daqui, guardamos três valores, cod_pessoa, genero e nascimento.\n",
    "    try:\n",
    "        #Nessa primeira etapa, vamos inserir na tabela \"pessoa\" nas colunas cod_pessoa, genero e data_nascimento as variaveis que guardamos anteriormente, cod_pessoa, genero e nascimento\n",
    "        querey = f\"\"\"insert into pessoa (cod_pessoa, genero, data_nascimento )\n",
    "                     values ('{cod_pessoa}',  '{genero}', '{nascimento}')\"\"\"      \n",
    "        conn.execute(querey) #enviar soliciatação par inserir      \n",
    "        print(f\"Registro inserido com sucesso: {cod_pessoa}\") #Se ocorrer tudo bem\n",
    "    except Exception as e:        \n",
    "        print(f\"Não foi possível inserir o regristro {cod_pessoa}. O erro foi encontrado foi: {e}\") #Se houver algum erro\n",
    "print(\"Pessoas Inseridas\")"
   ]
  },
  {
   "source": [
    "Agora vamos inserir os dados que estão nas listas: animais, hobbies, climas e bebidas"
   ],
   "cell_type": "markdown",
   "metadata": {}
  },
  {
   "cell_type": "code",
   "execution_count": 56,
   "metadata": {},
   "outputs": [
    {
     "output_type": "stream",
     "name": "stdout",
     "text": [
      "Não foi possível inserir o regristro peixe. O erro foi encontrado foi: (MySQLdb._exceptions.IntegrityError) (1062, \"Duplicate entry 'peixe' for key 'animal_estimacao.animal_UNIQUE'\")\n[SQL: insert into animal_estimacao (animal) \n                     values ('peixe')]\n(Background on this error at: http://sqlalche.me/e/14/gkpj)\nNão foi possível inserir o regristro tartaruga. O erro foi encontrado foi: (MySQLdb._exceptions.IntegrityError) (1062, \"Duplicate entry 'tartaruga' for key 'animal_estimacao.animal_UNIQUE'\")\n[SQL: insert into animal_estimacao (animal) \n                     values ('tartaruga')]\n(Background on this error at: http://sqlalche.me/e/14/gkpj)\nNão foi possível inserir o regristro gato. O erro foi encontrado foi: (MySQLdb._exceptions.IntegrityError) (1062, \"Duplicate entry 'gato' for key 'animal_estimacao.animal_UNIQUE'\")\n[SQL: insert into animal_estimacao (animal) \n                     values ('gato')]\n(Background on this error at: http://sqlalche.me/e/14/gkpj)\nNão foi possível inserir o regristro cachorro. O erro foi encontrado foi: (MySQLdb._exceptions.IntegrityError) (1062, \"Duplicate entry 'cachorro' for key 'animal_estimacao.animal_UNIQUE'\")\n[SQL: insert into animal_estimacao (animal) \n                     values ('cachorro')]\n(Background on this error at: http://sqlalche.me/e/14/gkpj)\nAnimais Inseridos\n"
     ]
    }
   ],
   "source": [
    "#Inserir animais\n",
    "#A lógica é bem parecida com a de pessoas, mas como é apenas uma lista, só iremos inserir um valor\n",
    "for a in animais: #Nesse caso, como existe apenas um valor, a variável temporária 'a' que está sendo criada no for irá assumir o valor contido em casa linha da lista animais\n",
    "    try:\n",
    "        #Nessa primeira etapa, vamos inserir na tabela \"animal_estimacao\" na coluna animal, o valor de a.\n",
    "        querey = f\"\"\"insert into animal_estimacao (animal) \n",
    "                     values ('{a}')\"\"\"\n",
    "        conn.execute(querey)#enviar soliciatação par inserir      \n",
    "    except Exception as e:\n",
    "        print(f\"Não foi possível inserir o regristro {a}. O erro foi encontrado foi: {e}\")  \n",
    "print(\"Animais Inseridos\")"
   ]
  },
  {
   "source": [
    "A mesma lógica da lista de animais se aplica para as lista de hobbies, climas e bebidas"
   ],
   "cell_type": "markdown",
   "metadata": {}
  },
  {
   "cell_type": "code",
   "execution_count": 57,
   "metadata": {},
   "outputs": [
    {
     "output_type": "stream",
     "name": "stdout",
     "text": [
      "Não foi possível inserir o regristro Praticar esporte. O erro foi encontrado foi: (MySQLdb._exceptions.IntegrityError) (1062, \"Duplicate entry 'Praticar esporte' for key 'hobbie.hobbie_UNIQUE'\")\n[SQL: insert into hobbie (hobbie) \n                     values ('Praticar esporte')]\n(Background on this error at: http://sqlalche.me/e/14/gkpj)\nNão foi possível inserir o regristro Assistir TV. O erro foi encontrado foi: (MySQLdb._exceptions.IntegrityError) (1062, \"Duplicate entry 'Assistir TV' for key 'hobbie.hobbie_UNIQUE'\")\n[SQL: insert into hobbie (hobbie) \n                     values ('Assistir TV')]\n(Background on this error at: http://sqlalche.me/e/14/gkpj)\nNão foi possível inserir o regristro Ler livros. O erro foi encontrado foi: (MySQLdb._exceptions.IntegrityError) (1062, \"Duplicate entry 'Ler livros' for key 'hobbie.hobbie_UNIQUE'\")\n[SQL: insert into hobbie (hobbie) \n                     values ('Ler livros')]\n(Background on this error at: http://sqlalche.me/e/14/gkpj)\nNão foi possível inserir o regristro Aprender algo novo. O erro foi encontrado foi: (MySQLdb._exceptions.IntegrityError) (1062, \"Duplicate entry 'Aprender algo novo' for key 'hobbie.hobbie_UNIQUE'\")\n[SQL: insert into hobbie (hobbie) \n                     values ('Aprender algo novo')]\n(Background on this error at: http://sqlalche.me/e/14/gkpj)\nNão foi possível inserir o regristro Escrever. O erro foi encontrado foi: (MySQLdb._exceptions.IntegrityError) (1062, \"Duplicate entry 'Escrever' for key 'hobbie.hobbie_UNIQUE'\")\n[SQL: insert into hobbie (hobbie) \n                     values ('Escrever')]\n(Background on this error at: http://sqlalche.me/e/14/gkpj)\nNão foi possível inserir o regristro Pintar quadros. O erro foi encontrado foi: (MySQLdb._exceptions.IntegrityError) (1062, \"Duplicate entry 'Pintar quadros' for key 'hobbie.hobbie_UNIQUE'\")\n[SQL: insert into hobbie (hobbie) \n                     values ('Pintar quadros')]\n(Background on this error at: http://sqlalche.me/e/14/gkpj)\nNão foi possível inserir o regristro Dormir. O erro foi encontrado foi: (MySQLdb._exceptions.IntegrityError) (1062, \"Duplicate entry 'Dormir' for key 'hobbie.hobbie_UNIQUE'\")\n[SQL: insert into hobbie (hobbie) \n                     values ('Dormir')]\n(Background on this error at: http://sqlalche.me/e/14/gkpj)\nNão foi possível inserir o regristro Escutar música. O erro foi encontrado foi: (MySQLdb._exceptions.IntegrityError) (1062, <NULL>)\n[SQL: insert into hobbie (hobbie) \n                     values ('Escutar música')]\n(Background on this error at: http://sqlalche.me/e/14/gkpj)\nHobbies inseridos\n"
     ]
    }
   ],
   "source": [
    "#Inserir Hobbies\n",
    "for h in hobbies:\n",
    "    try:\n",
    "        #Nessa primeira etapa, vamos inserir na tabela \"hobbie\" na coluna hobbie, o valor de h.\n",
    "        querey = f\"\"\"insert into hobbie (hobbie) \n",
    "                     values ('{h}')\"\"\"\n",
    "        conn.execute(querey)\n",
    "    except Exception as e:\n",
    "        print(f\"Não foi possível inserir o regristro {h}. O erro foi encontrado foi: {e}\")  \n",
    "print(\"Hobbies inseridos\")\n"
   ]
  },
  {
   "cell_type": "code",
   "execution_count": 58,
   "metadata": {},
   "outputs": [
    {
     "output_type": "stream",
     "name": "stdout",
     "text": [
      "Não foi possível inserir o regristro Cerveja. O erro foi encontrado foi: (MySQLdb._exceptions.IntegrityError) (1062, \"Duplicate entry 'Cerveja' for key 'bebida.bebida_UNIQUE'\")\n[SQL: insert into bebida (bebida) \n                     values ('Cerveja')]\n(Background on this error at: http://sqlalche.me/e/14/gkpj)\nNão foi possível inserir o regristro Café. O erro foi encontrado foi: (MySQLdb._exceptions.IntegrityError) (1062, <NULL>)\n[SQL: insert into bebida (bebida) \n                     values ('Café')]\n(Background on this error at: http://sqlalche.me/e/14/gkpj)\nNão foi possível inserir o regristro refrigerante. O erro foi encontrado foi: (MySQLdb._exceptions.IntegrityError) (1062, \"Duplicate entry 'refrigerante' for key 'bebida.bebida_UNIQUE'\")\n[SQL: insert into bebida (bebida) \n                     values ('refrigerante')]\n(Background on this error at: http://sqlalche.me/e/14/gkpj)\nNão foi possível inserir o regristro Água. O erro foi encontrado foi: (MySQLdb._exceptions.IntegrityError) (1062, <NULL>)\n[SQL: insert into bebida (bebida) \n                     values ('Água')]\n(Background on this error at: http://sqlalche.me/e/14/gkpj)\nNão foi possível inserir o regristro Vinho. O erro foi encontrado foi: (MySQLdb._exceptions.IntegrityError) (1062, \"Duplicate entry 'Vinho' for key 'bebida.bebida_UNIQUE'\")\n[SQL: insert into bebida (bebida) \n                     values ('Vinho')]\n(Background on this error at: http://sqlalche.me/e/14/gkpj)\nNão foi possível inserir o regristro Chá. O erro foi encontrado foi: (MySQLdb._exceptions.IntegrityError) (1062, <NULL>)\n[SQL: insert into bebida (bebida) \n                     values ('Chá')]\n(Background on this error at: http://sqlalche.me/e/14/gkpj)\nBebidas inseridas\n"
     ]
    }
   ],
   "source": [
    "#Inserir Bebidas\n",
    "for b in bebidas:\n",
    "    try:\n",
    "        #Nessa primeira etapa, vamos inserir na tabela \"bebida\" na coluna bebida, o valor de b.\n",
    "        querey = f\"\"\"insert into bebida (bebida) \n",
    "                     values ('{b}')\"\"\"\n",
    "        conn.execute(querey)\n",
    "    except Exception as e:\n",
    "        print(f\"Não foi possível inserir o regristro {b}. O erro foi encontrado foi: {e}\")  \n",
    "print(\"Bebidas inseridas\")"
   ]
  },
  {
   "cell_type": "code",
   "execution_count": 59,
   "metadata": {},
   "outputs": [
    {
     "output_type": "stream",
     "name": "stdout",
     "text": [
      "Não foi possível inserir o regristro frio. O erro foi encontrado foi: (MySQLdb._exceptions.IntegrityError) (1062, \"Duplicate entry 'frio' for key 'clima.clima_UNIQUE'\")\n[SQL: insert into clima (clima) \n                     values ('frio')]\n(Background on this error at: http://sqlalche.me/e/14/gkpj)\nNão foi possível inserir o regristro quente. O erro foi encontrado foi: (MySQLdb._exceptions.IntegrityError) (1062, \"Duplicate entry 'quente' for key 'clima.clima_UNIQUE'\")\n[SQL: insert into clima (clima) \n                     values ('quente')]\n(Background on this error at: http://sqlalche.me/e/14/gkpj)\nNão foi possível inserir o regristro moderado. O erro foi encontrado foi: (MySQLdb._exceptions.IntegrityError) (1062, \"Duplicate entry 'moderado' for key 'clima.clima_UNIQUE'\")\n[SQL: insert into clima (clima) \n                     values ('moderado')]\n(Background on this error at: http://sqlalche.me/e/14/gkpj)\nClimas inseridas\n"
     ]
    }
   ],
   "source": [
    "#Inserir Clima\n",
    "for c in climas:\n",
    "    try:\n",
    "        #Nessa primeira etapa, vamos inserir na tabela \"clima\" na coluna clima, o valor de c.\n",
    "        querey = f\"\"\"insert into clima (clima) \n",
    "                     values ('{c}')\"\"\"\n",
    "        conn.execute(querey)\n",
    "    except Exception as e:\n",
    "        print(f\"Não foi possível inserir o regristro {c}. O erro foi encontrado foi: {e}\")  \n",
    "print(\"Climas inseridas\")"
   ]
  },
  {
   "source": [
    "Agora as variáveis estão todas inseridas no banco de dados, precisamos agora inserir no banco os dados relacionados da tabela de pesquisa. Para tal, precisamos ler as nossas tabelas que estão guardadas no banco.\n",
    "\n",
    "Nesse ponto você pode se perguntar: Por qual motivo preciso fazer isso? Elas já não estavam armazenadas aqui no código?\n",
    "\n",
    "Então, lembra que você criou colunas chamadas de cod_de_alguma coisa?\n",
    "\n",
    "Para as tabelas de clima, bebida, hobbie e animal nós não inserimos um valor correspondente ao cod_clima, cod_bebida, cod_hobbie e cod_animal.\n",
    "\n",
    "O que aconteceu então?\n",
    "\n",
    "Essas colunas foram configuradas no mysql como auto increment e a medida que linhas novas são inseridas elas são incrementadas.\n",
    "\n",
    "Já para a a tabela de pessoas, já existia um cod_pessoa na nossa tabela de pesquisas."
   ],
   "cell_type": "markdown",
   "metadata": {}
  },
  {
   "source": [
    "Leitura das tabelas do banco de dados"
   ],
   "cell_type": "markdown",
   "metadata": {}
  },
  {
   "cell_type": "code",
   "execution_count": 60,
   "metadata": {},
   "outputs": [],
   "source": [
    "df_animais = pd.read_sql('animal_estimacao', con=conn) #ler a tabela animal_estimacao\n",
    "df_bebidas = pd.read_sql('bebida', con=conn) #ler a tabela bebida\n",
    "df_climas = pd.read_sql('clima', con=conn) #ler a tabela clima\n",
    "df_pessoas = pd.read_sql('pessoa', con=conn) #ler a tabela pessoa\n",
    "df_hobbies = pd.read_sql('hobbie', con=conn) #ler a tabela hobbie"
   ]
  },
  {
   "source": [
    "Observe que para os animais, bebidas, climas e hobbies nós inserimos listas mas recebemos data_frames.\n",
    "\n",
    "Qual o motivo disso?\n",
    "\n",
    "Lembra das colunas cod_clima, cod_bebida, cod_hobbie e cod_animal? Então, elas foram auto incrementadas dentro do mysql e agora foram lidas.\n",
    "\n",
    "Observe cada um dos data_frames lidos do banco para fazer uma analogia ao que foi dito."
   ],
   "cell_type": "markdown",
   "metadata": {}
  },
  {
   "cell_type": "code",
   "execution_count": 76,
   "metadata": {},
   "outputs": [
    {
     "output_type": "execute_result",
     "data": {
      "text/plain": [
       "   cod_bebida        bebida\n",
       "0           4          Água\n",
       "1           2          Café\n",
       "2           1       Cerveja\n",
       "3           6           Chá\n",
       "4           3  refrigerante\n",
       "5           5         Vinho"
      ],
      "text/html": "<div>\n<style scoped>\n    .dataframe tbody tr th:only-of-type {\n        vertical-align: middle;\n    }\n\n    .dataframe tbody tr th {\n        vertical-align: top;\n    }\n\n    .dataframe thead th {\n        text-align: right;\n    }\n</style>\n<table border=\"1\" class=\"dataframe\">\n  <thead>\n    <tr style=\"text-align: right;\">\n      <th></th>\n      <th>cod_bebida</th>\n      <th>bebida</th>\n    </tr>\n  </thead>\n  <tbody>\n    <tr>\n      <th>0</th>\n      <td>4</td>\n      <td>Água</td>\n    </tr>\n    <tr>\n      <th>1</th>\n      <td>2</td>\n      <td>Café</td>\n    </tr>\n    <tr>\n      <th>2</th>\n      <td>1</td>\n      <td>Cerveja</td>\n    </tr>\n    <tr>\n      <th>3</th>\n      <td>6</td>\n      <td>Chá</td>\n    </tr>\n    <tr>\n      <th>4</th>\n      <td>3</td>\n      <td>refrigerante</td>\n    </tr>\n    <tr>\n      <th>5</th>\n      <td>5</td>\n      <td>Vinho</td>\n    </tr>\n  </tbody>\n</table>\n</div>"
     },
     "metadata": {},
     "execution_count": 76
    }
   ],
   "source": [
    "df_bebidas"
   ]
  },
  {
   "cell_type": "code",
   "execution_count": 72,
   "metadata": {},
   "outputs": [
    {
     "output_type": "execute_result",
     "data": {
      "text/plain": [
       "   cod_animal_estimacao     animal\n",
       "0                     4   cachorro\n",
       "1                     3       gato\n",
       "2                     1      peixe\n",
       "3                     2  tartaruga"
      ],
      "text/html": "<div>\n<style scoped>\n    .dataframe tbody tr th:only-of-type {\n        vertical-align: middle;\n    }\n\n    .dataframe tbody tr th {\n        vertical-align: top;\n    }\n\n    .dataframe thead th {\n        text-align: right;\n    }\n</style>\n<table border=\"1\" class=\"dataframe\">\n  <thead>\n    <tr style=\"text-align: right;\">\n      <th></th>\n      <th>cod_animal_estimacao</th>\n      <th>animal</th>\n    </tr>\n  </thead>\n  <tbody>\n    <tr>\n      <th>0</th>\n      <td>4</td>\n      <td>cachorro</td>\n    </tr>\n    <tr>\n      <th>1</th>\n      <td>3</td>\n      <td>gato</td>\n    </tr>\n    <tr>\n      <th>2</th>\n      <td>1</td>\n      <td>peixe</td>\n    </tr>\n    <tr>\n      <th>3</th>\n      <td>2</td>\n      <td>tartaruga</td>\n    </tr>\n  </tbody>\n</table>\n</div>"
     },
     "metadata": {},
     "execution_count": 72
    }
   ],
   "source": [
    "df_animais\n"
   ]
  },
  {
   "cell_type": "code",
   "execution_count": 73,
   "metadata": {},
   "outputs": [
    {
     "output_type": "execute_result",
     "data": {
      "text/plain": [
       "   cod_clima     clima\n",
       "0          1      frio\n",
       "1          3  moderado\n",
       "2          2    quente"
      ],
      "text/html": "<div>\n<style scoped>\n    .dataframe tbody tr th:only-of-type {\n        vertical-align: middle;\n    }\n\n    .dataframe tbody tr th {\n        vertical-align: top;\n    }\n\n    .dataframe thead th {\n        text-align: right;\n    }\n</style>\n<table border=\"1\" class=\"dataframe\">\n  <thead>\n    <tr style=\"text-align: right;\">\n      <th></th>\n      <th>cod_clima</th>\n      <th>clima</th>\n    </tr>\n  </thead>\n  <tbody>\n    <tr>\n      <th>0</th>\n      <td>1</td>\n      <td>frio</td>\n    </tr>\n    <tr>\n      <th>1</th>\n      <td>3</td>\n      <td>moderado</td>\n    </tr>\n    <tr>\n      <th>2</th>\n      <td>2</td>\n      <td>quente</td>\n    </tr>\n  </tbody>\n</table>\n</div>"
     },
     "metadata": {},
     "execution_count": 73
    }
   ],
   "source": [
    "df_climas"
   ]
  },
  {
   "cell_type": "code",
   "execution_count": 74,
   "metadata": {},
   "outputs": [
    {
     "output_type": "execute_result",
     "data": {
      "text/plain": [
       "   cod_pessoa     genero data_nascimento\n",
       "0    10141501   Feminino      1984-05-22\n",
       "1    10141502  Masculino      1998-06-27\n",
       "2    10141503  Masculino      1963-02-18\n",
       "3    10141504  Masculino      1979-09-09\n",
       "4    10141505  Masculino      1958-10-04"
      ],
      "text/html": "<div>\n<style scoped>\n    .dataframe tbody tr th:only-of-type {\n        vertical-align: middle;\n    }\n\n    .dataframe tbody tr th {\n        vertical-align: top;\n    }\n\n    .dataframe thead th {\n        text-align: right;\n    }\n</style>\n<table border=\"1\" class=\"dataframe\">\n  <thead>\n    <tr style=\"text-align: right;\">\n      <th></th>\n      <th>cod_pessoa</th>\n      <th>genero</th>\n      <th>data_nascimento</th>\n    </tr>\n  </thead>\n  <tbody>\n    <tr>\n      <th>0</th>\n      <td>10141501</td>\n      <td>Feminino</td>\n      <td>1984-05-22</td>\n    </tr>\n    <tr>\n      <th>1</th>\n      <td>10141502</td>\n      <td>Masculino</td>\n      <td>1998-06-27</td>\n    </tr>\n    <tr>\n      <th>2</th>\n      <td>10141503</td>\n      <td>Masculino</td>\n      <td>1963-02-18</td>\n    </tr>\n    <tr>\n      <th>3</th>\n      <td>10141504</td>\n      <td>Masculino</td>\n      <td>1979-09-09</td>\n    </tr>\n    <tr>\n      <th>4</th>\n      <td>10141505</td>\n      <td>Masculino</td>\n      <td>1958-10-04</td>\n    </tr>\n  </tbody>\n</table>\n</div>"
     },
     "metadata": {},
     "execution_count": 74
    }
   ],
   "source": [
    "df_pessoas[:5] #mostra as 5 primeiras"
   ]
  },
  {
   "cell_type": "code",
   "execution_count": 75,
   "metadata": {},
   "outputs": [
    {
     "output_type": "execute_result",
     "data": {
      "text/plain": [
       "   cod_hobbie              hobbie\n",
       "0           4  Aprender algo novo\n",
       "1           2         Assistir TV\n",
       "2           7              Dormir\n",
       "3           5            Escrever\n",
       "4           8      Escutar música\n",
       "5           3          Ler livros\n",
       "6           6      Pintar quadros\n",
       "7           1    Praticar esporte"
      ],
      "text/html": "<div>\n<style scoped>\n    .dataframe tbody tr th:only-of-type {\n        vertical-align: middle;\n    }\n\n    .dataframe tbody tr th {\n        vertical-align: top;\n    }\n\n    .dataframe thead th {\n        text-align: right;\n    }\n</style>\n<table border=\"1\" class=\"dataframe\">\n  <thead>\n    <tr style=\"text-align: right;\">\n      <th></th>\n      <th>cod_hobbie</th>\n      <th>hobbie</th>\n    </tr>\n  </thead>\n  <tbody>\n    <tr>\n      <th>0</th>\n      <td>4</td>\n      <td>Aprender algo novo</td>\n    </tr>\n    <tr>\n      <th>1</th>\n      <td>2</td>\n      <td>Assistir TV</td>\n    </tr>\n    <tr>\n      <th>2</th>\n      <td>7</td>\n      <td>Dormir</td>\n    </tr>\n    <tr>\n      <th>3</th>\n      <td>5</td>\n      <td>Escrever</td>\n    </tr>\n    <tr>\n      <th>4</th>\n      <td>8</td>\n      <td>Escutar música</td>\n    </tr>\n    <tr>\n      <th>5</th>\n      <td>3</td>\n      <td>Ler livros</td>\n    </tr>\n    <tr>\n      <th>6</th>\n      <td>6</td>\n      <td>Pintar quadros</td>\n    </tr>\n    <tr>\n      <th>7</th>\n      <td>1</td>\n      <td>Praticar esporte</td>\n    </tr>\n  </tbody>\n</table>\n</div>"
     },
     "metadata": {},
     "execution_count": 75
    }
   ],
   "source": [
    "df_hobbies"
   ]
  },
  {
   "cell_type": "code",
   "execution_count": 62,
   "metadata": {},
   "outputs": [],
   "source": [
    "#Para facilitar o entendimento criei uma copia do df_pesquisa\n",
    "#Cópia do Banco\n",
    "df_pesquisa2 = df_pesquisa.copy()"
   ]
  },
  {
   "source": [
    "Agora que já temos as tabelas com seus respectivos códigos, precisamos substituir nas colunas do dataframe df_pesquisa os valores dos códigos das nossas tabelas.\n",
    "\n",
    "Para isso criamos alguns dicionários para fazer essa tal substituição.\n",
    "\n",
    "Para facilitar o entendimento, vamos observar a primeira pesquisa:\n"
   ],
   "cell_type": "markdown",
   "metadata": {}
  },
  {
   "cell_type": "code",
   "execution_count": 63,
   "metadata": {},
   "outputs": [
    {
     "output_type": "execute_result",
     "data": {
      "text/plain": [
       "   cod_pessoa data_coleta     genero data_nascimento animal_estimacao clima  \\\n",
       "0    10141743  2020-01-01  Masculino      1981-04-25            peixe  frio   \n",
       "\n",
       "  bebida_favorita           hobbies  \n",
       "0         Cerveja  Praticar esporte  "
      ],
      "text/html": "<div>\n<style scoped>\n    .dataframe tbody tr th:only-of-type {\n        vertical-align: middle;\n    }\n\n    .dataframe tbody tr th {\n        vertical-align: top;\n    }\n\n    .dataframe thead th {\n        text-align: right;\n    }\n</style>\n<table border=\"1\" class=\"dataframe\">\n  <thead>\n    <tr style=\"text-align: right;\">\n      <th></th>\n      <th>cod_pessoa</th>\n      <th>data_coleta</th>\n      <th>genero</th>\n      <th>data_nascimento</th>\n      <th>animal_estimacao</th>\n      <th>clima</th>\n      <th>bebida_favorita</th>\n      <th>hobbies</th>\n    </tr>\n  </thead>\n  <tbody>\n    <tr>\n      <th>0</th>\n      <td>10141743</td>\n      <td>2020-01-01</td>\n      <td>Masculino</td>\n      <td>1981-04-25</td>\n      <td>peixe</td>\n      <td>frio</td>\n      <td>Cerveja</td>\n      <td>Praticar esporte</td>\n    </tr>\n  </tbody>\n</table>\n</div>"
     },
     "metadata": {},
     "execution_count": 63
    }
   ],
   "source": [
    "df_pesquisa2[:1]"
   ]
  },
  {
   "source": [
    "O que precisamos fazer é o seguinte substituir o valor de:\n",
    "\n",
    " peixe pelo seu código 1\n",
    "\n",
    " Praticar esporte por seu codigo 1\n",
    "\n",
    " frio pelo seu código 1\n",
    "\n",
    " cerveja pelo seu código 1"
   ],
   "cell_type": "markdown",
   "metadata": {}
  },
  {
   "cell_type": "code",
   "execution_count": 64,
   "metadata": {},
   "outputs": [],
   "source": [
    "#Usando Dicionários para substituir os valores pelos codigos\n",
    "#Animais\n",
    "#Com as funções abaixo é possível criar um dicionário de para os nossos dataframes e substitui-los no df_pesquisa\n",
    "\n",
    "#Criando dicionário\n",
    "dict_animais = df_animais.set_index(df_animais.animal)['cod_animal_estimacao'].to_dict()\n",
    "#Substituindo no dataframe df_pesquisa\n",
    "df_pesquisa.animal_estimacao = df_pesquisa2.animal_estimacao.map(dict_animais) \n",
    "#Observando o que fizemos agora:\n",
    "df_pesquisa[:5]#mostra as 5 primeiras linhas\n",
    "\n",
    "#De forma análoga fazemos para os demais dataframes:\n",
    "#Bebidas\n",
    "dict_bebidas = df_bebidas.set_index(df_bebidas.bebida)['cod_bebida'].to_dict()\n",
    "df_pesquisa.bebida_favorita = df_pesquisa2.bebida_favorita.map(dict_bebidas) \n",
    "\n",
    "#Hobbies\n",
    "dict_hobbies = df_hobbies.set_index(df_hobbies.hobbie)['cod_hobbie'].to_dict()\n",
    "df_pesquisa.hobbies = df_pesquisa2.hobbies.map(dict_hobbies) \n",
    "\n",
    "#Clima\n",
    "dict_climas = df_climas.set_index(df_climas.clima)['cod_clima'].to_dict()\n",
    "df_pesquisa.clima = df_pesquisa2.clima.map(dict_climas) "
   ]
  },
  {
   "source": [
    "Nosso dataframe df_pesquisa ficou dessa forma agora:"
   ],
   "cell_type": "markdown",
   "metadata": {}
  },
  {
   "cell_type": "code",
   "execution_count": 65,
   "metadata": {},
   "outputs": [
    {
     "output_type": "execute_result",
     "data": {
      "text/plain": [
       "    cod_pessoa data_coleta     genero data_nascimento  animal_estimacao  \\\n",
       "0     10141743  2020-01-01  Masculino      1981-04-25                 1   \n",
       "1     10141860  2020-01-01   Feminino      1966-01-19                 1   \n",
       "2     10142548  2020-01-01  Masculino      1973-08-02                 2   \n",
       "3     10142591  2020-01-01  Masculino      1997-03-05                 3   \n",
       "4     10142654  2020-01-01   Feminino      1969-08-05                 2   \n",
       "..         ...         ...        ...             ...               ...   \n",
       "1     10142475  2020-12-31  Masculino      1955-05-30                 1   \n",
       "2     10142522  2020-12-31  Masculino      1954-12-22                 1   \n",
       "3     10142881  2020-12-31  Masculino      1952-07-30                 3   \n",
       "4     10143184  2020-12-31  Masculino      1984-06-05                 2   \n",
       "5     10143307  2020-12-31  Masculino      1971-08-29                 2   \n",
       "\n",
       "    clima  bebida_favorita  hobbies  \n",
       "0       1                1        1  \n",
       "1       2                2        2  \n",
       "2       1                2        3  \n",
       "3       3                1        4  \n",
       "4       3                2        2  \n",
       "..    ...              ...      ...  \n",
       "1       2                2        1  \n",
       "2       3                1        1  \n",
       "3       1                3        2  \n",
       "4       2                3        6  \n",
       "5       3                3        6  \n",
       "\n",
       "[2127 rows x 8 columns]"
      ],
      "text/html": "<div>\n<style scoped>\n    .dataframe tbody tr th:only-of-type {\n        vertical-align: middle;\n    }\n\n    .dataframe tbody tr th {\n        vertical-align: top;\n    }\n\n    .dataframe thead th {\n        text-align: right;\n    }\n</style>\n<table border=\"1\" class=\"dataframe\">\n  <thead>\n    <tr style=\"text-align: right;\">\n      <th></th>\n      <th>cod_pessoa</th>\n      <th>data_coleta</th>\n      <th>genero</th>\n      <th>data_nascimento</th>\n      <th>animal_estimacao</th>\n      <th>clima</th>\n      <th>bebida_favorita</th>\n      <th>hobbies</th>\n    </tr>\n  </thead>\n  <tbody>\n    <tr>\n      <th>0</th>\n      <td>10141743</td>\n      <td>2020-01-01</td>\n      <td>Masculino</td>\n      <td>1981-04-25</td>\n      <td>1</td>\n      <td>1</td>\n      <td>1</td>\n      <td>1</td>\n    </tr>\n    <tr>\n      <th>1</th>\n      <td>10141860</td>\n      <td>2020-01-01</td>\n      <td>Feminino</td>\n      <td>1966-01-19</td>\n      <td>1</td>\n      <td>2</td>\n      <td>2</td>\n      <td>2</td>\n    </tr>\n    <tr>\n      <th>2</th>\n      <td>10142548</td>\n      <td>2020-01-01</td>\n      <td>Masculino</td>\n      <td>1973-08-02</td>\n      <td>2</td>\n      <td>1</td>\n      <td>2</td>\n      <td>3</td>\n    </tr>\n    <tr>\n      <th>3</th>\n      <td>10142591</td>\n      <td>2020-01-01</td>\n      <td>Masculino</td>\n      <td>1997-03-05</td>\n      <td>3</td>\n      <td>3</td>\n      <td>1</td>\n      <td>4</td>\n    </tr>\n    <tr>\n      <th>4</th>\n      <td>10142654</td>\n      <td>2020-01-01</td>\n      <td>Feminino</td>\n      <td>1969-08-05</td>\n      <td>2</td>\n      <td>3</td>\n      <td>2</td>\n      <td>2</td>\n    </tr>\n    <tr>\n      <th>...</th>\n      <td>...</td>\n      <td>...</td>\n      <td>...</td>\n      <td>...</td>\n      <td>...</td>\n      <td>...</td>\n      <td>...</td>\n      <td>...</td>\n    </tr>\n    <tr>\n      <th>1</th>\n      <td>10142475</td>\n      <td>2020-12-31</td>\n      <td>Masculino</td>\n      <td>1955-05-30</td>\n      <td>1</td>\n      <td>2</td>\n      <td>2</td>\n      <td>1</td>\n    </tr>\n    <tr>\n      <th>2</th>\n      <td>10142522</td>\n      <td>2020-12-31</td>\n      <td>Masculino</td>\n      <td>1954-12-22</td>\n      <td>1</td>\n      <td>3</td>\n      <td>1</td>\n      <td>1</td>\n    </tr>\n    <tr>\n      <th>3</th>\n      <td>10142881</td>\n      <td>2020-12-31</td>\n      <td>Masculino</td>\n      <td>1952-07-30</td>\n      <td>3</td>\n      <td>1</td>\n      <td>3</td>\n      <td>2</td>\n    </tr>\n    <tr>\n      <th>4</th>\n      <td>10143184</td>\n      <td>2020-12-31</td>\n      <td>Masculino</td>\n      <td>1984-06-05</td>\n      <td>2</td>\n      <td>2</td>\n      <td>3</td>\n      <td>6</td>\n    </tr>\n    <tr>\n      <th>5</th>\n      <td>10143307</td>\n      <td>2020-12-31</td>\n      <td>Masculino</td>\n      <td>1971-08-29</td>\n      <td>2</td>\n      <td>3</td>\n      <td>3</td>\n      <td>6</td>\n    </tr>\n  </tbody>\n</table>\n<p>2127 rows × 8 columns</p>\n</div>"
     },
     "metadata": {},
     "execution_count": 65
    }
   ],
   "source": [
    "df_pesquisa"
   ]
  },
  {
   "source": [
    " E observando que os dataframe df_pesquisa possui as colunas cod_pessoa, genero e data_nascimento e que o dataframe df_pessoas possui as mesmas colunas, podemos removê-las e referenciá-las com o cod_pessoa quando fizermos pesquisas no mysql."
   ],
   "cell_type": "markdown",
   "metadata": {}
  },
  {
   "cell_type": "code",
   "execution_count": 66,
   "metadata": {},
   "outputs": [],
   "source": [
    "\n",
    "#Criei uma variável nova apenas por questões didáticas para comparação entre elas\n",
    "#Selecionando apenas as colunas de interesse do dataframe df_pesquisa\n",
    "df_final = df_pesquisa[['cod_pessoa', 'animal_estimacao', 'clima', 'bebida_favorita', 'hobbies', 'data_coleta']]\n",
    "df_final[:5]#5 primeiras linhas\n"
   ]
  },
  {
   "cell_type": "code",
   "execution_count": 77,
   "metadata": {},
   "outputs": [
    {
     "output_type": "execute_result",
     "data": {
      "text/plain": [
       "   cod_pessoa  cod_animal_estimacao  cod_clima  cod_bebida  cod_hobbie  \\\n",
       "0    10141743                     1          1           1           1   \n",
       "1    10141860                     1          2           2           2   \n",
       "2    10142548                     2          1           2           3   \n",
       "3    10142591                     3          3           1           4   \n",
       "4    10142654                     2          3           2           2   \n",
       "\n",
       "  data_pesquisa  \n",
       "0    2020-01-01  \n",
       "1    2020-01-01  \n",
       "2    2020-01-01  \n",
       "3    2020-01-01  \n",
       "4    2020-01-01  "
      ],
      "text/html": "<div>\n<style scoped>\n    .dataframe tbody tr th:only-of-type {\n        vertical-align: middle;\n    }\n\n    .dataframe tbody tr th {\n        vertical-align: top;\n    }\n\n    .dataframe thead th {\n        text-align: right;\n    }\n</style>\n<table border=\"1\" class=\"dataframe\">\n  <thead>\n    <tr style=\"text-align: right;\">\n      <th></th>\n      <th>cod_pessoa</th>\n      <th>cod_animal_estimacao</th>\n      <th>cod_clima</th>\n      <th>cod_bebida</th>\n      <th>cod_hobbie</th>\n      <th>data_pesquisa</th>\n    </tr>\n  </thead>\n  <tbody>\n    <tr>\n      <th>0</th>\n      <td>10141743</td>\n      <td>1</td>\n      <td>1</td>\n      <td>1</td>\n      <td>1</td>\n      <td>2020-01-01</td>\n    </tr>\n    <tr>\n      <th>1</th>\n      <td>10141860</td>\n      <td>1</td>\n      <td>2</td>\n      <td>2</td>\n      <td>2</td>\n      <td>2020-01-01</td>\n    </tr>\n    <tr>\n      <th>2</th>\n      <td>10142548</td>\n      <td>2</td>\n      <td>1</td>\n      <td>2</td>\n      <td>3</td>\n      <td>2020-01-01</td>\n    </tr>\n    <tr>\n      <th>3</th>\n      <td>10142591</td>\n      <td>3</td>\n      <td>3</td>\n      <td>1</td>\n      <td>4</td>\n      <td>2020-01-01</td>\n    </tr>\n    <tr>\n      <th>4</th>\n      <td>10142654</td>\n      <td>2</td>\n      <td>3</td>\n      <td>2</td>\n      <td>2</td>\n      <td>2020-01-01</td>\n    </tr>\n  </tbody>\n</table>\n</div>"
     },
     "metadata": {},
     "execution_count": 77
    }
   ],
   "source": [
    "#Aqui estamos renomeando as colunas do dataframe, novamente com uma nova vairável para questões didáticas de comparação entre elas:\n",
    "df_final2 = df_final.rename(columns={'animal_estimacao' : 'cod_animal_estimacao', 'clima' : 'cod_clima', 'bebida_favorita' : 'cod_bebida', 'hobbies' : 'cod_hobbie', 'data_coleta' : 'data_pesquisa'})\n",
    "df_final2[:5]#5 primeiras linhas"
   ]
  },
  {
   "cell_type": "code",
   "execution_count": null,
   "metadata": {},
   "outputs": [],
   "source": []
  },
  {
   "source": [
    "Nas vídeo aulas, o professor usa um script mysql para inserir os dados de pesquisa, exportando o o dataframe df_final2, no entanto eu preri inserir de maneira análoga ao df_pessoas."
   ],
   "cell_type": "markdown",
   "metadata": {}
  },
  {
   "cell_type": "code",
   "execution_count": 69,
   "metadata": {
    "tags": [
     "outputPrepend"
    ]
   },
   "outputs": [
    {
     "output_type": "stream",
     "name": "stdout",
     "text": [
      "m sucesso: 10142940\n",
      "Registro inserido com sucesso: 10143504\n",
      "Registro inserido com sucesso: 10142071\n",
      "Registro inserido com sucesso: 10143000\n",
      "Registro inserido com sucesso: 10143304\n",
      "Registro inserido com sucesso: 10142180\n",
      "Registro inserido com sucesso: 10142437\n",
      "Registro inserido com sucesso: 10142937\n",
      "Registro inserido com sucesso: 10142959\n",
      "Registro inserido com sucesso: 10142996\n",
      "Registro inserido com sucesso: 10143127\n",
      "Registro inserido com sucesso: 10143135\n",
      "Registro inserido com sucesso: 10143216\n",
      "Registro inserido com sucesso: 10143470\n",
      "Registro inserido com sucesso: 10141568\n",
      "Registro inserido com sucesso: 10141686\n",
      "Registro inserido com sucesso: 10141791\n",
      "Registro inserido com sucesso: 10142074\n",
      "Registro inserido com sucesso: 10142665\n",
      "Registro inserido com sucesso: 10143049\n",
      "Registro inserido com sucesso: 10143178\n",
      "Registro inserido com sucesso: 10142044\n",
      "Registro inserido com sucesso: 10142311\n",
      "Registro inserido com sucesso: 10142533\n",
      "Registro inserido com sucesso: 10142642\n",
      "Registro inserido com sucesso: 10143503\n",
      "Registro inserido com sucesso: 10143551\n",
      "Registro inserido com sucesso: 10142644\n",
      "Registro inserido com sucesso: 10142843\n",
      "Registro inserido com sucesso: 10141847\n",
      "Registro inserido com sucesso: 10142224\n",
      "Registro inserido com sucesso: 10142824\n",
      "Registro inserido com sucesso: 10143183\n",
      "Registro inserido com sucesso: 10143571\n",
      "Registro inserido com sucesso: 10142027\n",
      "Registro inserido com sucesso: 10142190\n",
      "Registro inserido com sucesso: 10142350\n",
      "Registro inserido com sucesso: 10142755\n",
      "Registro inserido com sucesso: 10143105\n",
      "Registro inserido com sucesso: 10143116\n",
      "Registro inserido com sucesso: 10143584\n",
      "Registro inserido com sucesso: 10141506\n",
      "Registro inserido com sucesso: 10142387\n",
      "Registro inserido com sucesso: 10142390\n",
      "Registro inserido com sucesso: 10142487\n",
      "Registro inserido com sucesso: 10143235\n",
      "Registro inserido com sucesso: 10143303\n",
      "Registro inserido com sucesso: 10143417\n",
      "Registro inserido com sucesso: 10143604\n",
      "Registro inserido com sucesso: 10142047\n",
      "Registro inserido com sucesso: 10142239\n",
      "Registro inserido com sucesso: 10142583\n",
      "Registro inserido com sucesso: 10142838\n",
      "Registro inserido com sucesso: 10143101\n",
      "Registro inserido com sucesso: 10143344\n",
      "Registro inserido com sucesso: 10141682\n",
      "Registro inserido com sucesso: 10142234\n",
      "Registro inserido com sucesso: 10142355\n",
      "Registro inserido com sucesso: 10142510\n",
      "Registro inserido com sucesso: 10143068\n",
      "Registro inserido com sucesso: 10143170\n",
      "Registro inserido com sucesso: 10143517\n",
      "Registro inserido com sucesso: 10141623\n",
      "Registro inserido com sucesso: 10141974\n",
      "Registro inserido com sucesso: 10142213\n",
      "Registro inserido com sucesso: 10142457\n",
      "Registro inserido com sucesso: 10142490\n",
      "Registro inserido com sucesso: 10143083\n",
      "Registro inserido com sucesso: 10143254\n",
      "Registro inserido com sucesso: 10143479\n",
      "Registro inserido com sucesso: 10141725\n",
      "Registro inserido com sucesso: 10141731\n",
      "Registro inserido com sucesso: 10141800\n",
      "Registro inserido com sucesso: 10141852\n",
      "Registro inserido com sucesso: 10142045\n",
      "Registro inserido com sucesso: 10142147\n",
      "Registro inserido com sucesso: 10142244\n",
      "Registro inserido com sucesso: 10142331\n",
      "Registro inserido com sucesso: 10143042\n",
      "Registro inserido com sucesso: 10143215\n",
      "Registro inserido com sucesso: 10141719\n",
      "Registro inserido com sucesso: 10141868\n",
      "Registro inserido com sucesso: 10141883\n",
      "Registro inserido com sucesso: 10142375\n",
      "Registro inserido com sucesso: 10142957\n",
      "Registro inserido com sucesso: 10143528\n",
      "Registro inserido com sucesso: 10143573\n",
      "Registro inserido com sucesso: 10141590\n",
      "Registro inserido com sucesso: 10141649\n",
      "Registro inserido com sucesso: 10141914\n",
      "Registro inserido com sucesso: 10142200\n",
      "Registro inserido com sucesso: 10142245\n",
      "Registro inserido com sucesso: 10142400\n",
      "Registro inserido com sucesso: 10142485\n",
      "Registro inserido com sucesso: 10142802\n",
      "Registro inserido com sucesso: 10143096\n",
      "Registro inserido com sucesso: 10143218\n",
      "Registro inserido com sucesso: 10143225\n",
      "Registro inserido com sucesso: 10143230\n",
      "Registro inserido com sucesso: 10141904\n",
      "Registro inserido com sucesso: 10142747\n",
      "Registro inserido com sucesso: 10143029\n",
      "Registro inserido com sucesso: 10143357\n",
      "Registro inserido com sucesso: 10141756\n",
      "Registro inserido com sucesso: 10142283\n",
      "Registro inserido com sucesso: 10142524\n",
      "Registro inserido com sucesso: 10142743\n",
      "Registro inserido com sucesso: 10142910\n",
      "Registro inserido com sucesso: 10143054\n",
      "Registro inserido com sucesso: 10141692\n",
      "Registro inserido com sucesso: 10141872\n",
      "Registro inserido com sucesso: 10142022\n",
      "Registro inserido com sucesso: 10142407\n",
      "Registro inserido com sucesso: 10142622\n",
      "Registro inserido com sucesso: 10142904\n",
      "Registro inserido com sucesso: 10143500\n",
      "Registro inserido com sucesso: 10141618\n",
      "Registro inserido com sucesso: 10141889\n",
      "Registro inserido com sucesso: 10142235\n",
      "Registro inserido com sucesso: 10142807\n",
      "Registro inserido com sucesso: 10143036\n",
      "Registro inserido com sucesso: 10143575\n",
      "Registro inserido com sucesso: 10142789\n",
      "Registro inserido com sucesso: 10143449\n",
      "Registro inserido com sucesso: 10142203\n",
      "Registro inserido com sucesso: 10142205\n",
      "Registro inserido com sucesso: 10142220\n",
      "Registro inserido com sucesso: 10142367\n",
      "Registro inserido com sucesso: 10142444\n",
      "Registro inserido com sucesso: 10142459\n",
      "Registro inserido com sucesso: 10142526\n",
      "Registro inserido com sucesso: 10142689\n",
      "Registro inserido com sucesso: 10143063\n",
      "Registro inserido com sucesso: 10141816\n",
      "Registro inserido com sucesso: 10142198\n",
      "Registro inserido com sucesso: 10143498\n",
      "Registro inserido com sucesso: 10141849\n",
      "Registro inserido com sucesso: 10142096\n",
      "Registro inserido com sucesso: 10142258\n",
      "Registro inserido com sucesso: 10142771\n",
      "Registro inserido com sucesso: 10142934\n",
      "Registro inserido com sucesso: 10143354\n",
      "Registro inserido com sucesso: 10143444\n",
      "Registro inserido com sucesso: 10143518\n",
      "Registro inserido com sucesso: 10141674\n",
      "Registro inserido com sucesso: 10141994\n",
      "Registro inserido com sucesso: 10143190\n",
      "Registro inserido com sucesso: 10143322\n",
      "Registro inserido com sucesso: 10142025\n",
      "Registro inserido com sucesso: 10142456\n",
      "Registro inserido com sucesso: 10143465\n",
      "Registro inserido com sucesso: 10141501\n",
      "Registro inserido com sucesso: 10142417\n",
      "Registro inserido com sucesso: 10142861\n",
      "Registro inserido com sucesso: 10143122\n",
      "Registro inserido com sucesso: 10143522\n",
      "Registro inserido com sucesso: 10142382\n",
      "Registro inserido com sucesso: 10142429\n",
      "Registro inserido com sucesso: 10142447\n",
      "Registro inserido com sucesso: 10142944\n",
      "Registro inserido com sucesso: 10142956\n",
      "Registro inserido com sucesso: 10143103\n",
      "Registro inserido com sucesso: 10143221\n",
      "Registro inserido com sucesso: 10143279\n",
      "Registro inserido com sucesso: 10143373\n",
      "Registro inserido com sucesso: 10143581\n",
      "Registro inserido com sucesso: 10141622\n",
      "Registro inserido com sucesso: 10141680\n",
      "Registro inserido com sucesso: 10141813\n",
      "Registro inserido com sucesso: 10142271\n",
      "Registro inserido com sucesso: 10142409\n",
      "Registro inserido com sucesso: 10142558\n",
      "Registro inserido com sucesso: 10143376\n",
      "Registro inserido com sucesso: 10143492\n",
      "Registro inserido com sucesso: 10141509\n",
      "Registro inserido com sucesso: 10142233\n",
      "Registro inserido com sucesso: 10142448\n",
      "Registro inserido com sucesso: 10142741\n",
      "Registro inserido com sucesso: 10142786\n",
      "Registro inserido com sucesso: 10142791\n",
      "Registro inserido com sucesso: 10142968\n",
      "Registro inserido com sucesso: 10141546\n",
      "Registro inserido com sucesso: 10141647\n",
      "Registro inserido com sucesso: 10141840\n",
      "Registro inserido com sucesso: 10142176\n",
      "Registro inserido com sucesso: 10142631\n",
      "Registro inserido com sucesso: 10143059\n",
      "Registro inserido com sucesso: 10142403\n",
      "Registro inserido com sucesso: 10142577\n",
      "Registro inserido com sucesso: 10142814\n",
      "Registro inserido com sucesso: 10142884\n",
      "Registro inserido com sucesso: 10143150\n",
      "Registro inserido com sucesso: 10143483\n",
      "Registro inserido com sucesso: 10141551\n",
      "Registro inserido com sucesso: 10141629\n",
      "Registro inserido com sucesso: 10141707\n",
      "Registro inserido com sucesso: 10142132\n",
      "Registro inserido com sucesso: 10142307\n",
      "Registro inserido com sucesso: 10142612\n",
      "Registro inserido com sucesso: 10143109\n",
      "Registro inserido com sucesso: 10143143\n",
      "Registro inserido com sucesso: 10143262\n",
      "Registro inserido com sucesso: 10141540\n",
      "Registro inserido com sucesso: 10141667\n",
      "Registro inserido com sucesso: 10142410\n",
      "Registro inserido com sucesso: 10142468\n",
      "Registro inserido com sucesso: 10142858\n",
      "Registro inserido com sucesso: 10142995\n",
      "Registro inserido com sucesso: 10143260\n",
      "Registro inserido com sucesso: 10143399\n",
      "Registro inserido com sucesso: 10142087\n",
      "Registro inserido com sucesso: 10142095\n",
      "Registro inserido com sucesso: 10142901\n",
      "Registro inserido com sucesso: 10143211\n",
      "Registro inserido com sucesso: 10142653\n",
      "Registro inserido com sucesso: 10143126\n",
      "Registro inserido com sucesso: 10141700\n",
      "Registro inserido com sucesso: 10141757\n",
      "Registro inserido com sucesso: 10141972\n",
      "Registro inserido com sucesso: 10142060\n",
      "Registro inserido com sucesso: 10142623\n",
      "Registro inserido com sucesso: 10142831\n",
      "Registro inserido com sucesso: 10142852\n",
      "Registro inserido com sucesso: 10143072\n",
      "Registro inserido com sucesso: 10143219\n",
      "Registro inserido com sucesso: 10143350\n",
      "Registro inserido com sucesso: 10143562\n",
      "Registro inserido com sucesso: 10141572\n",
      "Registro inserido com sucesso: 10142004\n",
      "Registro inserido com sucesso: 10142069\n",
      "Registro inserido com sucesso: 10142219\n",
      "Registro inserido com sucesso: 10142324\n",
      "Registro inserido com sucesso: 10142515\n",
      "Registro inserido com sucesso: 10142565\n",
      "Registro inserido com sucesso: 10142712\n",
      "Registro inserido com sucesso: 10143324\n",
      "Registro inserido com sucesso: 10142029\n",
      "Registro inserido com sucesso: 10142105\n",
      "Registro inserido com sucesso: 10142302\n",
      "Registro inserido com sucesso: 10142334\n",
      "Registro inserido com sucesso: 10142606\n",
      "Registro inserido com sucesso: 10142888\n",
      "Registro inserido com sucesso: 10142994\n",
      "Registro inserido com sucesso: 10141632\n",
      "Registro inserido com sucesso: 10141688\n",
      "Registro inserido com sucesso: 10141727\n",
      "Registro inserido com sucesso: 10141982\n",
      "Registro inserido com sucesso: 10142078\n",
      "Registro inserido com sucesso: 10142579\n",
      "Registro inserido com sucesso: 10142829\n",
      "Registro inserido com sucesso: 10141832\n",
      "Registro inserido com sucesso: 10141870\n",
      "Registro inserido com sucesso: 10141908\n",
      "Registro inserido com sucesso: 10142379\n",
      "Registro inserido com sucesso: 10142877\n",
      "Registro inserido com sucesso: 10143149\n",
      "Registro inserido com sucesso: 10143582\n",
      "Registro inserido com sucesso: 10141909\n",
      "Registro inserido com sucesso: 10141971\n",
      "Registro inserido com sucesso: 10142007\n",
      "Registro inserido com sucesso: 10142056\n",
      "Registro inserido com sucesso: 10142722\n",
      "Registro inserido com sucesso: 10142924\n",
      "Registro inserido com sucesso: 10143383\n",
      "Registro inserido com sucesso: 10141993\n",
      "Registro inserido com sucesso: 10142586\n",
      "Registro inserido com sucesso: 10142681\n",
      "Registro inserido com sucesso: 10142787\n",
      "Registro inserido com sucesso: 10143309\n",
      "Registro inserido com sucesso: 10142005\n",
      "Registro inserido com sucesso: 10142480\n",
      "Registro inserido com sucesso: 10142955\n",
      "Registro inserido com sucesso: 10143281\n",
      "Registro inserido com sucesso: 10143585\n",
      "Registro inserido com sucesso: 10141502\n",
      "Registro inserido com sucesso: 10142536\n",
      "Registro inserido com sucesso: 10142859\n",
      "Registro inserido com sucesso: 10143308\n",
      "Registro inserido com sucesso: 10143480\n",
      "Registro inserido com sucesso: 10143520\n",
      "Registro inserido com sucesso: 10143606\n",
      "Registro inserido com sucesso: 10141562\n",
      "Registro inserido com sucesso: 10141879\n",
      "Registro inserido com sucesso: 10141915\n",
      "Registro inserido com sucesso: 10141992\n",
      "Registro inserido com sucesso: 10142240\n",
      "Registro inserido com sucesso: 10142821\n",
      "Registro inserido com sucesso: 10142840\n",
      "Registro inserido com sucesso: 10142965\n",
      "Registro inserido com sucesso: 10143527\n",
      "Registro inserido com sucesso: 10143568\n",
      "Registro inserido com sucesso: 10143599\n",
      "Registro inserido com sucesso: 10141708\n",
      "Registro inserido com sucesso: 10141804\n",
      "Registro inserido com sucesso: 10141978\n",
      "Registro inserido com sucesso: 10142122\n",
      "Registro inserido com sucesso: 10142590\n",
      "Registro inserido com sucesso: 10142643\n",
      "Registro inserido com sucesso: 10143066\n",
      "Registro inserido com sucesso: 10142402\n",
      "Registro inserido com sucesso: 10142440\n",
      "Registro inserido com sucesso: 10142775\n",
      "Registro inserido com sucesso: 10142801\n",
      "Registro inserido com sucesso: 10143165\n",
      "Registro inserido com sucesso: 10141986\n",
      "Registro inserido com sucesso: 10142442\n",
      "Registro inserido com sucesso: 10142922\n",
      "Registro inserido com sucesso: 10143030\n",
      "Registro inserido com sucesso: 10143138\n",
      "Registro inserido com sucesso: 10143217\n",
      "Registro inserido com sucesso: 10143311\n",
      "Registro inserido com sucesso: 10143419\n",
      "Registro inserido com sucesso: 10141558\n",
      "Registro inserido com sucesso: 10141567\n",
      "Registro inserido com sucesso: 10141604\n",
      "Registro inserido com sucesso: 10141921\n",
      "Registro inserido com sucesso: 10141976\n",
      "Registro inserido com sucesso: 10143388\n",
      "Registro inserido com sucesso: 10143439\n",
      "Registro inserido com sucesso: 10143511\n",
      "Registro inserido com sucesso: 10141764\n",
      "Registro inserido com sucesso: 10141833\n",
      "Registro inserido com sucesso: 10142165\n",
      "Registro inserido com sucesso: 10142578\n",
      "Registro inserido com sucesso: 10142658\n",
      "Registro inserido com sucesso: 10143306\n",
      "Registro inserido com sucesso: 10143395\n",
      "Registro inserido com sucesso: 10141698\n",
      "Registro inserido com sucesso: 10141839\n",
      "Registro inserido com sucesso: 10142210\n",
      "Registro inserido com sucesso: 10143363\n",
      "Registro inserido com sucesso: 10143532\n",
      "Registro inserido com sucesso: 10141742\n",
      "Registro inserido com sucesso: 10143440\n",
      "Registro inserido com sucesso: 10141752\n",
      "Registro inserido com sucesso: 10142208\n",
      "Registro inserido com sucesso: 10142428\n",
      "Registro inserido com sucesso: 10142649\n",
      "Registro inserido com sucesso: 10143266\n",
      "Registro inserido com sucesso: 10143271\n",
      "Registro inserido com sucesso: 10143367\n",
      "Registro inserido com sucesso: 10143463\n",
      "Registro inserido com sucesso: 10143529\n",
      "Registro inserido com sucesso: 10143627\n",
      "Registro inserido com sucesso: 10142119\n",
      "Registro inserido com sucesso: 10142614\n",
      "Registro inserido com sucesso: 10142907\n",
      "Registro inserido com sucesso: 10143437\n",
      "Registro inserido com sucesso: 10143569\n",
      "Registro inserido com sucesso: 10142412\n",
      "Registro inserido com sucesso: 10142999\n",
      "Registro inserido com sucesso: 10143121\n",
      "Registro inserido com sucesso: 10143161\n",
      "Registro inserido com sucesso: 10143195\n",
      "Registro inserido com sucesso: 10141737\n",
      "Registro inserido com sucesso: 10142098\n",
      "Registro inserido com sucesso: 10143084\n",
      "Registro inserido com sucesso: 10143171\n",
      "Registro inserido com sucesso: 10142154\n",
      "Registro inserido com sucesso: 10142313\n",
      "Registro inserido com sucesso: 10142856\n",
      "Registro inserido com sucesso: 10142418\n",
      "Registro inserido com sucesso: 10142435\n",
      "Registro inserido com sucesso: 10143420\n",
      "Registro inserido com sucesso: 10141665\n",
      "Registro inserido com sucesso: 10142158\n",
      "Registro inserido com sucesso: 10142223\n",
      "Registro inserido com sucesso: 10142492\n",
      "Registro inserido com sucesso: 10142708\n",
      "Registro inserido com sucesso: 10142762\n",
      "Registro inserido com sucesso: 10143047\n",
      "Registro inserido com sucesso: 10143188\n",
      "Registro inserido com sucesso: 10143370\n",
      "Registro inserido com sucesso: 10141553\n",
      "Registro inserido com sucesso: 10142215\n",
      "Registro inserido com sucesso: 10143288\n",
      "Registro inserido com sucesso: 10143577\n",
      "Registro inserido com sucesso: 10141626\n",
      "Registro inserido com sucesso: 10141652\n",
      "Registro inserido com sucesso: 10142058\n",
      "Registro inserido com sucesso: 10143082\n",
      "Registro inserido com sucesso: 10143626\n",
      "Registro inserido com sucesso: 10141672\n",
      "Registro inserido com sucesso: 10142294\n",
      "Registro inserido com sucesso: 10142630\n",
      "Registro inserido com sucesso: 10142997\n",
      "Registro inserido com sucesso: 10141768\n",
      "Registro inserido com sucesso: 10141898\n",
      "Registro inserido com sucesso: 10142265\n",
      "Registro inserido com sucesso: 10142759\n",
      "Registro inserido com sucesso: 10142928\n",
      "Registro inserido com sucesso: 10142989\n",
      "Registro inserido com sucesso: 10143181\n",
      "Registro inserido com sucesso: 10143241\n",
      "Registro inserido com sucesso: 10141949\n",
      "Registro inserido com sucesso: 10142088\n",
      "Registro inserido com sucesso: 10142299\n",
      "Registro inserido com sucesso: 10142319\n",
      "Registro inserido com sucesso: 10142544\n",
      "Registro inserido com sucesso: 10143064\n",
      "Registro inserido com sucesso: 10143106\n",
      "Registro inserido com sucesso: 10143312\n",
      "Registro inserido com sucesso: 10143333\n",
      "Registro inserido com sucesso: 10141578\n",
      "Registro inserido com sucesso: 10141749\n",
      "Registro inserido com sucesso: 10142329\n",
      "Registro inserido com sucesso: 10142344\n",
      "Registro inserido com sucesso: 10142690\n",
      "Registro inserido com sucesso: 10142699\n",
      "Registro inserido com sucesso: 10142715\n",
      "Registro inserido com sucesso: 10141588\n",
      "Registro inserido com sucesso: 10142745\n",
      "Registro inserido com sucesso: 10142463\n",
      "Registro inserido com sucesso: 10143145\n",
      "Registro inserido com sucesso: 10143246\n",
      "Registro inserido com sucesso: 10141928\n",
      "Registro inserido com sucesso: 10142254\n",
      "Registro inserido com sucesso: 10142505\n",
      "Registro inserido com sucesso: 10141542\n",
      "Registro inserido com sucesso: 10141685\n",
      "Registro inserido com sucesso: 10141726\n",
      "Registro inserido com sucesso: 10141759\n",
      "Registro inserido com sucesso: 10142077\n",
      "Registro inserido com sucesso: 10142124\n",
      "Registro inserido com sucesso: 10143353\n",
      "Registro inserido com sucesso: 10141876\n",
      "Registro inserido com sucesso: 10141899\n",
      "Registro inserido com sucesso: 10143110\n",
      "Registro inserido com sucesso: 10143158\n",
      "Registro inserido com sucesso: 10143159\n",
      "Registro inserido com sucesso: 10141762\n",
      "Registro inserido com sucesso: 10142032\n",
      "Registro inserido com sucesso: 10142869\n",
      "Registro inserido com sucesso: 10142020\n",
      "Registro inserido com sucesso: 10142211\n",
      "Registro inserido com sucesso: 10142252\n",
      "Registro inserido com sucesso: 10142277\n",
      "Registro inserido com sucesso: 10142127\n",
      "Registro inserido com sucesso: 10142161\n",
      "Registro inserido com sucesso: 10142893\n",
      "Registro inserido com sucesso: 10142977\n",
      "Registro inserido com sucesso: 10143062\n",
      "Registro inserido com sucesso: 10143142\n",
      "Registro inserido com sucesso: 10143227\n",
      "Registro inserido com sucesso: 10141617\n",
      "Registro inserido com sucesso: 10142393\n",
      "Registro inserido com sucesso: 10142971\n",
      "Registro inserido com sucesso: 10143012\n",
      "Registro inserido com sucesso: 10143624\n",
      "Registro inserido com sucesso: 10141760\n",
      "Registro inserido com sucesso: 10141806\n",
      "Registro inserido com sucesso: 10141888\n",
      "Registro inserido com sucesso: 10142181\n",
      "Registro inserido com sucesso: 10142352\n",
      "Registro inserido com sucesso: 10142863\n",
      "Registro inserido com sucesso: 10142981\n",
      "Registro inserido com sucesso: 10143114\n",
      "Registro inserido com sucesso: 10143535\n",
      "Registro inserido com sucesso: 10142185\n",
      "Registro inserido com sucesso: 10142227\n",
      "Registro inserido com sucesso: 10143558\n",
      "Registro inserido com sucesso: 10142601\n",
      "Registro inserido com sucesso: 10142772\n",
      "Registro inserido com sucesso: 10143078\n",
      "Registro inserido com sucesso: 10143173\n",
      "Registro inserido com sucesso: 10143530\n",
      "Registro inserido com sucesso: 10141765\n",
      "Registro inserido com sucesso: 10141820\n",
      "Registro inserido com sucesso: 10142126\n",
      "Registro inserido com sucesso: 10142267\n",
      "Registro inserido com sucesso: 10142664\n",
      "Registro inserido com sucesso: 10142727\n",
      "Registro inserido com sucesso: 10143345\n",
      "Registro inserido com sucesso: 10143460\n",
      "Registro inserido com sucesso: 10141763\n",
      "Registro inserido com sucesso: 10142046\n",
      "Registro inserido com sucesso: 10142408\n",
      "Registro inserido com sucesso: 10142576\n",
      "Registro inserido com sucesso: 10142819\n",
      "Registro inserido com sucesso: 10143087\n",
      "Registro inserido com sucesso: 10143464\n",
      "Registro inserido com sucesso: 10141538\n",
      "Registro inserido com sucesso: 10141656\n",
      "Registro inserido com sucesso: 10141778\n",
      "Registro inserido com sucesso: 10142003\n",
      "Registro inserido com sucesso: 10142040\n",
      "Registro inserido com sucesso: 10142621\n",
      "Registro inserido com sucesso: 10142663\n",
      "Registro inserido com sucesso: 10141560\n",
      "Registro inserido com sucesso: 10142072\n",
      "Registro inserido com sucesso: 10142286\n",
      "Registro inserido com sucesso: 10142466\n",
      "Registro inserido com sucesso: 10143067\n",
      "Registro inserido com sucesso: 10143595\n",
      "Registro inserido com sucesso: 10142416\n",
      "Registro inserido com sucesso: 10142475\n",
      "Registro inserido com sucesso: 10142522\n",
      "Registro inserido com sucesso: 10142881\n",
      "Registro inserido com sucesso: 10143184\n",
      "Registro inserido com sucesso: 10143307\n",
      "Pesquisas Inseridas\n"
     ]
    }
   ],
   "source": [
    "for p in df_final2.itertuples():#Um for que vai criar uma variável temporária p do tipo df_final que vai percorrer todo o dataframe df_final\n",
    "    #observando o dataframe df_final2 podemos notar que, de acordo com as colunas, cada pesquisa possui essas 6 características abaixo\n",
    "    cod_pessoa = p.cod_pessoa\t\n",
    "    cod_clima = p.cod_clima\n",
    "    data_pesquisa = p.data_pesquisa\n",
    "    cod_animal_estimacao = p.cod_animal_estimacao\n",
    "    cod_bebida = p.cod_bebida\n",
    "    cod_hobbie = p.cod_hobbie\n",
    "    #Aqui guardamos as variaveis cod_pessoa, cod_clima, data_pesquisa, cod_animal_estimacao, cod_bebida, cod_hobbie (6 variáveis para 6 colunas)\n",
    "    try:\n",
    "        #Nessa primeira etapa, vamos inserir na tabela \"pesquisa\" nas colunas cod_pessoa, cod_clima, data_pesquisa, cod_animal_estimacao, cod_bebida, cod_hobbie as variaveis que guardamos anteriormente, cod_pessoa, cod_clima, data_pesquisa, cod_animal_estimacao, cod_bebida, cod_hobbie.\n",
    "        querey = f\"\"\"insert into pesquisa (cod_pessoa, cod_clima, data_pesquisa, cod_animal_estimacao, cod_bebida, cod_hobbie) \n",
    "                     values ('{cod_pessoa}',  '{cod_clima}', '{data_pesquisa}', '{cod_animal_estimacao}', '{cod_bebida}', '{cod_hobbie}')\"\"\"      \n",
    "        conn.execute(querey)      \n",
    "        print(f\"Registro inserido com sucesso: {cod_pessoa}\")\n",
    "    except Exception as e:        \n",
    "        print(f\"Não foi possível inserir o regristro {cod_pessoa}. O erro foi encontrado foi: {e}\")\n",
    "print(\"Pesquisas Inseridas\")"
   ]
  },
  {
   "cell_type": "code",
   "execution_count": null,
   "metadata": {},
   "outputs": [],
   "source": []
  }
 ]
}